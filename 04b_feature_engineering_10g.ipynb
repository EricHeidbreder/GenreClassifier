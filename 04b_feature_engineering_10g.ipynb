{
 "cells": [
  {
   "cell_type": "code",
   "execution_count": 23,
   "metadata": {},
   "outputs": [],
   "source": [
    "import os\n",
    "import pandas as pd\n",
    "import numpy as np\n",
    "import librosa, librosa.display\n",
    "import matplotlib.pyplot as plt\n",
    "import matplotlib.style as style\n",
    "import seaborn as sns\n",
    "import regex\n",
    "from tqdm import tqdm\n",
    "from sklearn.preprocessing import StandardScaler\n",
    "from ast import literal_eval\n",
    "from sklearn.svm import SVC\n",
    "from sklearn.model_selection import train_test_split\n",
    "from funcs import *"
   ]
  },
  {
   "cell_type": "code",
   "execution_count": 24,
   "metadata": {},
   "outputs": [
    {
     "name": "stderr",
     "output_type": "stream",
     "text": [
      "C:\\ProgramData\\Anaconda3\\envs\\dsi\\lib\\site-packages\\tqdm\\std.py:670: FutureWarning: The Panel class is removed from pandas. Accessing it from the top-level namespace will also be removed in the next version\n",
      "  from pandas import Panel\n"
     ]
    }
   ],
   "source": [
    "tqdm.pandas() # Registering instance of tqdm with pandas so I can check progress on .apply()"
   ]
  },
  {
   "cell_type": "code",
   "execution_count": 25,
   "metadata": {},
   "outputs": [],
   "source": [
    "style.use('fivethirtyeight')"
   ]
  },
  {
   "cell_type": "code",
   "execution_count": 26,
   "metadata": {},
   "outputs": [],
   "source": [
    "songs = pd.read_csv('./data/ten_genres_500_samp.csv')"
   ]
  },
  {
   "cell_type": "markdown",
   "metadata": {},
   "source": [
    "Needed to further clean up my data - my filenames and locations didn't match."
   ]
  },
  {
   "cell_type": "code",
   "execution_count": 27,
   "metadata": {},
   "outputs": [],
   "source": [
    "for folder in os.listdir('./scrapes/'):\n",
    "    songs.loc[songs['genre'] == folder, 'filename'] = os.listdir(f'./scrapes/{folder}')"
   ]
  },
  {
   "cell_type": "code",
   "execution_count": 28,
   "metadata": {},
   "outputs": [],
   "source": [
    "for folder in os.listdir('./scrapes/'):\n",
    "    new_location = [f'./scrapes/{folder}/{file}' for file in os.listdir(f'./scrapes/{folder}')]\n",
    "    songs.loc[songs['genre'] == folder, 'location'] = new_location     "
   ]
  },
  {
   "cell_type": "markdown",
   "metadata": {},
   "source": [
    "## Calculating Energy, RMSE, and MFCC\n",
    "\n",
    "**Energy** is the total magnitude of the signal, **RMSE** stands for Root Mean Squared Energy. These are different ways of measuring loudness of a signal and require us to set windows of time.[1]\n",
    "\n",
    "Calculating the **Mel-Frequency Cepstral Coefficient (MFCC)** involves many steps, but helps to create a non-linear representation of a sound's spectral envelope.[2] The steps are[3]:\n",
    "\n",
    "1. Take the Fourier transform of (a windowed excerpt of) a signal.\n",
    "2. Map the powers of the spectrum obtained above onto the mel scale, using triangular overlapping windows.\n",
    "3. Take the logs of the powers at each of the mel frequencies.\n",
    "4. Take the discrete cosine transform of the list of mel log powers, as if it were a signal.\n",
    "5. The MFCCs are the amplitudes of the resulting spectrum.\n"
   ]
  },
  {
   "cell_type": "code",
   "execution_count": 29,
   "metadata": {},
   "outputs": [],
   "source": [
    "# Creating empty columns to fill\n",
    "songs['energy_calc'] = np.zeros_like(songs['location'])\n",
    "songs['rms_calc'] = np.zeros_like(songs['location'])\n",
    "songs['mfcc_calc'] = np.zeros_like(songs['location'])\n"
   ]
  },
  {
   "cell_type": "code",
   "execution_count": 30,
   "metadata": {},
   "outputs": [
    {
     "name": "stderr",
     "output_type": "stream",
     "text": [
      "100%|██████████| 900/900 [12:22<00:00,  1.21it/s]\n"
     ]
    }
   ],
   "source": [
    "for location in tqdm(songs.iloc[:900]['location']):\n",
    "    new_features(songs, location, n_mfcc=12)"
   ]
  },
  {
   "cell_type": "code",
   "execution_count": 31,
   "metadata": {},
   "outputs": [
    {
     "name": "stderr",
     "output_type": "stream",
     "text": [
      "100%|██████████| 4099/4099 [59:29<00:00,  1.15it/s]  \n"
     ]
    }
   ],
   "source": [
    "for location in tqdm(songs.iloc[901:]['location']):\n",
    "    new_features(songs, location, n_mfcc=12)"
   ]
  },
  {
   "cell_type": "code",
   "execution_count": 32,
   "metadata": {},
   "outputs": [],
   "source": [
    "songs = songs.drop(index=900)"
   ]
  },
  {
   "cell_type": "code",
   "execution_count": 33,
   "metadata": {},
   "outputs": [
    {
     "name": "stderr",
     "output_type": "stream",
     "text": [
      "100%|██████████| 4999/4999 [00:13<00:00, 375.84it/s]\n",
      "100%|██████████| 4999/4999 [00:00<00:00, 22512.93it/s]\n",
      "100%|██████████| 4999/4999 [00:00<00:00, 66638.25it/s]\n",
      "100%|██████████| 4999/4999 [00:00<00:00, 113586.79it/s]\n"
     ]
    }
   ],
   "source": [
    "calc_features(songs)"
   ]
  },
  {
   "cell_type": "code",
   "execution_count": 34,
   "metadata": {},
   "outputs": [],
   "source": [
    "nfilt = 12\n",
    "modeling_df = split_features(songs, nfilt)"
   ]
  },
  {
   "cell_type": "markdown",
   "metadata": {},
   "source": [
    "When I removed row 900 (it wasn't being recognized by `librosa`), it looks like pandas still filled in that index with calculations. I need to shift all of those down a row now"
   ]
  },
  {
   "cell_type": "code",
   "execution_count": 35,
   "metadata": {},
   "outputs": [],
   "source": [
    "columns_to_shift = modeling_df.columns[36:]"
   ]
  },
  {
   "cell_type": "code",
   "execution_count": 36,
   "metadata": {},
   "outputs": [
    {
     "name": "stderr",
     "output_type": "stream",
     "text": [
      "C:\\ProgramData\\Anaconda3\\envs\\dsi\\lib\\site-packages\\pandas\\core\\frame.py:3065: SettingWithCopyWarning: \n",
      "A value is trying to be set on a copy of a slice from a DataFrame.\n",
      "Try using .loc[row_indexer,col_indexer] = value instead\n",
      "\n",
      "See the caveats in the documentation: https://pandas.pydata.org/pandas-docs/stable/user_guide/indexing.html#returning-a-view-versus-a-copy\n",
      "  self[k1] = value[k2]\n"
     ]
    }
   ],
   "source": [
    "modeling_df.iloc[900:][columns_to_shift] = modeling_df.iloc[900:][columns_to_shift].shift(axis=0)"
   ]
  },
  {
   "cell_type": "code",
   "execution_count": 37,
   "metadata": {},
   "outputs": [],
   "source": [
    "modeling_df.drop(900, inplace=True)"
   ]
  },
  {
   "cell_type": "code",
   "execution_count": 38,
   "metadata": {},
   "outputs": [
    {
     "data": {
      "text/plain": [
       "-319.7559814453125"
      ]
     },
     "execution_count": 38,
     "metadata": {},
     "output_type": "execute_result"
    }
   ],
   "source": [
    "modeling_df.iloc[900]['mfcc_mean_00'] # Sanity check to make sure the mfcc_mean_00 is correct"
   ]
  },
  {
   "cell_type": "code",
   "execution_count": 39,
   "metadata": {},
   "outputs": [],
   "source": [
    "modeling_df['energy_calc'] = modeling_df['energy_calc'].apply(lambda x: x.tolist())\n",
    "modeling_df['rms_calc'] = modeling_df['rms_calc'].apply(lambda x: x.tolist())\n",
    "modeling_df['mfcc_calc'] = modeling_df['mfcc_calc'].apply(lambda x: x.tolist())\n",
    "modeling_df['mfcc_mean'] = modeling_df['mfcc_mean'].apply(lambda x: x.tolist())\n",
    "modeling_df['mfcc_min'] = modeling_df['mfcc_min'].apply(lambda x: x.tolist())\n",
    "modeling_df['mfcc_max'] = modeling_df['mfcc_max'].apply(lambda x: x.tolist())"
   ]
  },
  {
   "cell_type": "code",
   "execution_count": 40,
   "metadata": {},
   "outputs": [
    {
     "data": {
      "text/plain": [
       "4995   -19.002405\n",
       "4996    26.285011\n",
       "4997    67.084000\n",
       "4998    54.184166\n",
       "4999    13.625891\n",
       "Name: mfcc_max_00, dtype: float64"
      ]
     },
     "execution_count": 40,
     "metadata": {},
     "output_type": "execute_result"
    }
   ],
   "source": [
    "modeling_df['mfcc_max_00'].tail()"
   ]
  },
  {
   "cell_type": "code",
   "execution_count": 41,
   "metadata": {},
   "outputs": [
    {
     "data": {
      "text/plain": [
       "(2584, 12)"
      ]
     },
     "execution_count": 41,
     "metadata": {},
     "output_type": "execute_result"
    }
   ],
   "source": [
    "songs['mfcc_calc'][3].shape"
   ]
  },
  {
   "cell_type": "markdown",
   "metadata": {},
   "source": [
    "The shape of this feature can be calculated as:  \n",
    "\n",
    "$\\frac{Sample Rate * ClipLengthInSeconds}{FrameLength}$\n",
    "\n",
    "Or in this case:\n",
    "\n",
    "$\\frac{44100 * 30}{512} \\approx 2584$\n",
    "\n",
    "The answer is rounded up to the nearest integer"
   ]
  },
  {
   "cell_type": "code",
   "execution_count": 42,
   "metadata": {},
   "outputs": [],
   "source": [
    "modeling_df.to_csv('./data/ten_g_500_modeling_12filt.csv',\n",
    "         sep='|',\n",
    "         header=True,\n",
    "         index=False,\n",
    "         chunksize=100000,\n",
    "         compression='gzip',\n",
    "         encoding='utf-8')"
   ]
  },
  {
   "cell_type": "code",
   "execution_count": 21,
   "metadata": {},
   "outputs": [],
   "source": [
    "hop_length = 256"
   ]
  },
  {
   "cell_type": "markdown",
   "metadata": {},
   "source": [
    "## **Sources**"
   ]
  },
  {
   "cell_type": "markdown",
   "metadata": {},
   "source": [
    "1. https://musicinformationretrieval.com/energy.html\n",
    "2. https://musicinformationretrieval.com/mfcc.html\n",
    "3.  Sahidullah, Md.; Saha, Goutam (May 2012). \"Design, analysis and experimental evaluation of block based transformation in MFCC computation for speaker recognition\". Speech Communication. 54 (4): 543–565. doi:10.1016/j.specom.2011.11.004."
   ]
  }
 ],
 "metadata": {
  "kernelspec": {
   "display_name": "Python 3",
   "language": "python",
   "name": "python3"
  },
  "language_info": {
   "codemirror_mode": {
    "name": "ipython",
    "version": 3
   },
   "file_extension": ".py",
   "mimetype": "text/x-python",
   "name": "python",
   "nbconvert_exporter": "python",
   "pygments_lexer": "ipython3",
   "version": "3.7.9"
  }
 },
 "nbformat": 4,
 "nbformat_minor": 4
}
