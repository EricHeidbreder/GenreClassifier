{
 "cells": [
  {
   "cell_type": "code",
   "execution_count": 325,
   "metadata": {},
   "outputs": [],
   "source": [
    "import pandas as pd\n",
    "import numpy as np\n",
    "import matplotlib.pyplot as plt\n",
    "import matplotlib.style as style\n",
    "import seaborn as sns\n",
    "from sklearn.model_selection import train_test_split, cross_val_score, GridSearchCV\n",
    "from sklearn.svm import SVC\n",
    "from sklearn.ensemble import AdaBoostClassifier, BaggingClassifier, VotingClassifier, RandomForestClassifier\n",
    "from sklearn.pipeline import Pipeline\n",
    "from sklearn.tree import ExtraTreeClassifier, DecisionTreeClassifier\n",
    "from sklearn.preprocessing import StandardScaler, OneHotEncoder, PolynomialFeatures\n",
    "from sklearn.metrics import confusion_matrix, plot_confusion_matrix\n",
    "from tensorflow.keras.models import Sequential\n",
    "from tensorflow.keras.layers import Dense, Dropout, Conv2D, MaxPooling2D, Flatten\n",
    "from tensorflow.keras.utils import to_categorical\n",
    "import ast\n",
    "from tqdm import tqdm"
   ]
  },
  {
   "cell_type": "code",
   "execution_count": 343,
   "metadata": {},
   "outputs": [],
   "source": [
    "style.use('fivethirtyeight')"
   ]
  },
  {
   "cell_type": "code",
   "execution_count": 3,
   "metadata": {},
   "outputs": [
    {
     "name": "stderr",
     "output_type": "stream",
     "text": [
      "C:\\ProgramData\\Anaconda3\\envs\\dsi\\lib\\site-packages\\tqdm\\std.py:670: FutureWarning: The Panel class is removed from pandas. Accessing it from the top-level namespace will also be removed in the next version\n",
      "  from pandas import Panel\n"
     ]
    }
   ],
   "source": [
    "tqdm.pandas()"
   ]
  },
  {
   "cell_type": "code",
   "execution_count": 4,
   "metadata": {},
   "outputs": [],
   "source": [
    "songs = pd.read_csv('./data/ten_g_500_modeling_12filt_uncomp.csv', sep='\\t')"
   ]
  },
  {
   "cell_type": "code",
   "execution_count": 319,
   "metadata": {},
   "outputs": [],
   "source": [
    "songs.drop(columns='Unnamed: 0', inplace=True)"
   ]
  },
  {
   "cell_type": "code",
   "execution_count": 5,
   "metadata": {},
   "outputs": [
    {
     "name": "stderr",
     "output_type": "stream",
     "text": [
      "100%|██████████| 4999/4999 [01:12<00:00, 68.60it/s]\n",
      "100%|██████████| 4999/4999 [01:16<00:00, 65.32it/s]\n",
      "100%|██████████| 4999/4999 [16:15<00:00,  5.13it/s]\n",
      "100%|██████████| 4999/4999 [00:00<00:00, 13780.49it/s]\n",
      "100%|██████████| 4999/4999 [00:00<00:00, 12962.77it/s]\n",
      "100%|██████████| 4999/4999 [00:00<00:00, 16366.38it/s]\n"
     ]
    }
   ],
   "source": [
    "songs['energy_calc'] = songs['energy_calc'].progress_apply(lambda x: np.array(ast.literal_eval(x)))\n",
    "songs['rms_calc'] = songs['rms_calc'].progress_apply(lambda x: np.array(ast.literal_eval(x)))\n",
    "songs['mfcc_calc'] = songs['mfcc_calc'].progress_apply(lambda x: np.array(ast.literal_eval(x)))\n",
    "songs['mfcc_mean'] = songs['mfcc_mean'].progress_apply(lambda x: np.array(ast.literal_eval(x)))\n",
    "songs['mfcc_min'] = songs['mfcc_min'].progress_apply(lambda x: np.array(ast.literal_eval(x)))\n",
    "songs['mfcc_max'] = songs['mfcc_max'].progress_apply(lambda x: np.array(ast.literal_eval(x)))"
   ]
  },
  {
   "cell_type": "code",
   "execution_count": 196,
   "metadata": {},
   "outputs": [
    {
     "data": {
      "text/plain": [
       "Index(['mean_energy', 'std_energy', 'min_energy', 'max_energy', 'max_rms',\n",
       "       'std_rms', 'median_rms', 'min_rms', 'mfcc_mean_00', 'mfcc_mean_01',\n",
       "       'mfcc_mean_02', 'mfcc_mean_03', 'mfcc_mean_04', 'mfcc_mean_05',\n",
       "       'mfcc_mean_06', 'mfcc_mean_07', 'mfcc_mean_08', 'mfcc_mean_09',\n",
       "       'mfcc_mean_10', 'mfcc_mean_11', 'mfcc_std_00', 'mfcc_std_01',\n",
       "       'mfcc_std_02', 'mfcc_std_03', 'mfcc_std_04', 'mfcc_std_05',\n",
       "       'mfcc_std_06', 'mfcc_std_07', 'mfcc_std_08', 'mfcc_std_09',\n",
       "       'mfcc_std_10', 'mfcc_std_11', 'mfcc_max_00', 'mfcc_max_01',\n",
       "       'mfcc_max_02', 'mfcc_max_03', 'mfcc_max_04', 'mfcc_max_05',\n",
       "       'mfcc_max_06', 'mfcc_max_07', 'mfcc_max_08', 'mfcc_max_09',\n",
       "       'mfcc_max_10', 'mfcc_max_11', 'mfcc_min_00', 'mfcc_min_01',\n",
       "       'mfcc_min_02', 'mfcc_min_03', 'mfcc_min_04', 'mfcc_min_05',\n",
       "       'mfcc_min_06', 'mfcc_min_07', 'mfcc_min_08', 'mfcc_min_09',\n",
       "       'mfcc_min_10', 'mfcc_min_11'],\n",
       "      dtype='object')"
      ]
     },
     "execution_count": 196,
     "metadata": {},
     "output_type": "execute_result"
    }
   ],
   "source": [
    "features"
   ]
  },
  {
   "cell_type": "code",
   "execution_count": 197,
   "metadata": {},
   "outputs": [],
   "source": [
    "features = songs.columns[24:].drop(['mfcc_calc', 'mfcc_mean', 'mfcc_min', 'mfcc_std', 'mfcc_max'])"
   ]
  },
  {
   "cell_type": "code",
   "execution_count": 198,
   "metadata": {},
   "outputs": [],
   "source": [
    "genres = list(songs['genre'].unique())"
   ]
  },
  {
   "cell_type": "code",
   "execution_count": 199,
   "metadata": {},
   "outputs": [],
   "source": [
    "# songs_minus_classical = songs[songs['genre'].isin(genres)]"
   ]
  },
  {
   "cell_type": "code",
   "execution_count": 330,
   "metadata": {},
   "outputs": [],
   "source": [
    "X = songs[features]\n",
    "y = songs['genre']"
   ]
  },
  {
   "cell_type": "code",
   "execution_count": 201,
   "metadata": {},
   "outputs": [],
   "source": [
    "def running_models(X, y, scaled=False, c=10):\n",
    "    X_train, X_test, y_train, y_test = train_test_split(X, y, stratify=y, random_state=182)\n",
    "    \n",
    "    # MODELING WITH SCALED FEATURES #\n",
    "    \n",
    "    # Scale the features\n",
    "    sc = StandardScaler()\n",
    "    X_train_sc = sc.fit_transform(X_train)\n",
    "    X_test_sc = sc.transform(X_test)\n",
    "    \n",
    "    # Creating a df to display results\n",
    "    model_df = pd.DataFrame(columns=['train_score', 'test_score'])\n",
    "    \n",
    "    model_sc = SVC(C=c, kernel='rbf', degree=3)\n",
    "    model_sc.fit(X_train_sc, y_train)\n",
    "    train_score = model_sc.score(X_train_sc, y_train)\n",
    "    test_score = model_sc.score(X_test_sc, y_test)\n",
    "    \n",
    "    row = {'model': type(model_sc).__name__,\n",
    "           'train_score' : train_score,\n",
    "          'test_score' : test_score,\n",
    "           'C': c,\n",
    "          'scaled': True}\n",
    "    model_df = model_df.append(row, ignore_index=True)\n",
    "    \n",
    "    # MODELING WITH UNSCALED FEATURES #\n",
    "    \n",
    "    model = SVC(C=c, kernel='rbf', degree=3)\n",
    "    model.fit(X_train, y_train)\n",
    "    train_score = model.score(X_train, y_train)\n",
    "    test_score = model.score(X_test, y_test)\n",
    "    \n",
    "    row = {'model': type(model).__name__,\n",
    "       'train_score' : train_score,\n",
    "      'test_score' : test_score,\n",
    "       'C': c,\n",
    "      'scaled': False}\n",
    "    model_df = model_df.append(row, ignore_index=True)\n",
    "    return model_df"
   ]
  },
  {
   "cell_type": "code",
   "execution_count": 202,
   "metadata": {},
   "outputs": [
    {
     "data": {
      "text/html": [
       "<div>\n",
       "<style scoped>\n",
       "    .dataframe tbody tr th:only-of-type {\n",
       "        vertical-align: middle;\n",
       "    }\n",
       "\n",
       "    .dataframe tbody tr th {\n",
       "        vertical-align: top;\n",
       "    }\n",
       "\n",
       "    .dataframe thead th {\n",
       "        text-align: right;\n",
       "    }\n",
       "</style>\n",
       "<table border=\"1\" class=\"dataframe\">\n",
       "  <thead>\n",
       "    <tr style=\"text-align: right;\">\n",
       "      <th></th>\n",
       "      <th>train_score</th>\n",
       "      <th>test_score</th>\n",
       "      <th>C</th>\n",
       "      <th>model</th>\n",
       "      <th>scaled</th>\n",
       "    </tr>\n",
       "  </thead>\n",
       "  <tbody>\n",
       "    <tr>\n",
       "      <th>0</th>\n",
       "      <td>0.862097</td>\n",
       "      <td>0.6088</td>\n",
       "      <td>10.0</td>\n",
       "      <td>SVC</td>\n",
       "      <td>1.0</td>\n",
       "    </tr>\n",
       "    <tr>\n",
       "      <th>1</th>\n",
       "      <td>0.603894</td>\n",
       "      <td>0.5648</td>\n",
       "      <td>10.0</td>\n",
       "      <td>SVC</td>\n",
       "      <td>0.0</td>\n",
       "    </tr>\n",
       "  </tbody>\n",
       "</table>\n",
       "</div>"
      ],
      "text/plain": [
       "   train_score  test_score     C model  scaled\n",
       "0     0.862097      0.6088  10.0   SVC     1.0\n",
       "1     0.603894      0.5648  10.0   SVC     0.0"
      ]
     },
     "execution_count": 202,
     "metadata": {},
     "output_type": "execute_result"
    }
   ],
   "source": [
    "running_models(X, y, scaled=False)"
   ]
  },
  {
   "cell_type": "markdown",
   "metadata": {},
   "source": [
    "Interesting, it looks like **unscaled data leads to less overfitting**. With an accuracy of $\\approx$ 56.5%, this `SVC` model is outperforming the model using Spotify's features by about 6%"
   ]
  },
  {
   "cell_type": "code",
   "execution_count": 331,
   "metadata": {},
   "outputs": [],
   "source": [
    "# Create train_test_split\n",
    "X_train, X_test, y_train, y_test = train_test_split(X, y, stratify=y, random_state=182)\n",
    "\n",
    "# Scale the features\n",
    "sc = StandardScaler()\n",
    "X_train_sc = sc.fit_transform(X_train)\n",
    "X_test_sc = sc.transform(X_test)"
   ]
  },
  {
   "cell_type": "code",
   "execution_count": 332,
   "metadata": {},
   "outputs": [
    {
     "data": {
      "text/plain": [
       "SVC(C=10)"
      ]
     },
     "execution_count": 332,
     "metadata": {},
     "output_type": "execute_result"
    }
   ],
   "source": [
    "model = SVC(C=10)\n",
    "\n",
    "model.fit(X_train, y_train)"
   ]
  },
  {
   "cell_type": "code",
   "execution_count": 333,
   "metadata": {},
   "outputs": [
    {
     "data": {
      "text/plain": [
       "array([0.55866667, 0.55466667, 0.584     , 0.536     , 0.5540721 ])"
      ]
     },
     "execution_count": 333,
     "metadata": {},
     "output_type": "execute_result"
    }
   ],
   "source": [
    "cross_val_score(model, X_train, y_train, n_jobs=12)"
   ]
  },
  {
   "cell_type": "code",
   "execution_count": 334,
   "metadata": {},
   "outputs": [
    {
     "data": {
      "text/plain": [
       "0.6038943718324886"
      ]
     },
     "execution_count": 334,
     "metadata": {},
     "output_type": "execute_result"
    }
   ],
   "source": [
    "model.score(X_train, y_train)"
   ]
  },
  {
   "cell_type": "code",
   "execution_count": 335,
   "metadata": {},
   "outputs": [
    {
     "data": {
      "text/plain": [
       "0.5648"
      ]
     },
     "execution_count": 335,
     "metadata": {},
     "output_type": "execute_result"
    }
   ],
   "source": [
    "model.score(X_test, y_test)"
   ]
  },
  {
   "cell_type": "code",
   "execution_count": 336,
   "metadata": {},
   "outputs": [],
   "source": [
    "y_preds = model.predict(X_test)"
   ]
  },
  {
   "cell_type": "code",
   "execution_count": 337,
   "metadata": {},
   "outputs": [],
   "source": [
    "categories = list(set(y_preds))\n",
    "numbers = list(range(len(categories)))"
   ]
  },
  {
   "cell_type": "code",
   "execution_count": 338,
   "metadata": {},
   "outputs": [],
   "source": [
    "results = X_test.copy()"
   ]
  },
  {
   "cell_type": "code",
   "execution_count": 339,
   "metadata": {},
   "outputs": [],
   "source": [
    "results.loc[:, 'genre'] = y_test.copy()"
   ]
  },
  {
   "cell_type": "code",
   "execution_count": 340,
   "metadata": {},
   "outputs": [],
   "source": [
    "results.loc[:, 'preds'] = y_preds.copy()"
   ]
  },
  {
   "cell_type": "code",
   "execution_count": 341,
   "metadata": {},
   "outputs": [
    {
     "data": {
      "image/png": "[encoded data removed]",
      "text/plain": [
       "<Figure size 1080x1080 with 2 Axes>"
      ]
     },
     "metadata": {},
     "output_type": "display_data"
    }
   ],
   "source": [
    "fig, ax = plt.subplots(figsize=(15,15))\n",
    "sns.set(font_scale=1.5)\n",
    "plot_confusion_matrix(model, X_test, y_test, \n",
    "                      xticks_rotation='90', \n",
    "                      values_format='.1%', \n",
    "                      normalize='true', ax=ax)\n",
    "plt.grid(False)\n",
    "plt.tight_layout();"
   ]
  },
  {
   "cell_type": "markdown",
   "metadata": {},
   "source": [
    "Interesting that **classical is now much less accurately predicted as classical** as compared to the 5-genre model using my features: now down to 30.4% from 95%.\n",
    "\n",
    "Also, what this confusion matrix is good at showing us is **relationships between genres**. Note how hip hop, rap, r&b, and pop music seem to get confused for each other often. While "
   ]
  },
  {
   "cell_type": "code",
   "execution_count": 297,
   "metadata": {},
   "outputs": [],
   "source": [
    "results_wrong = results[results['genre'] != results['preds']]"
   ]
  },
  {
   "cell_type": "code",
   "execution_count": 298,
   "metadata": {},
   "outputs": [],
   "source": [
    "songs_wrong = songs.loc[results_wrong.index, ['track_name']]"
   ]
  },
  {
   "cell_type": "code",
   "execution_count": 299,
   "metadata": {},
   "outputs": [
    {
     "name": "stderr",
     "output_type": "stream",
     "text": [
      "C:\\ProgramData\\Anaconda3\\envs\\dsi\\lib\\site-packages\\ipykernel_launcher.py:1: SettingWithCopyWarning: \n",
      "A value is trying to be set on a copy of a slice from a DataFrame.\n",
      "Try using .loc[row_indexer,col_indexer] = value instead\n",
      "\n",
      "See the caveats in the documentation: https://pandas.pydata.org/pandas-docs/stable/user_guide/indexing.html#returning-a-view-versus-a-copy\n",
      "  \"\"\"Entry point for launching an IPython kernel.\n"
     ]
    }
   ],
   "source": [
    "results_wrong['track_name'] = songs_wrong"
   ]
  },
  {
   "cell_type": "markdown",
   "metadata": {},
   "source": [
    "## What songs were predicted wrong?\n",
    "\n",
    "Let's dig in to what our model is having trouble predicting - we'll get more into this in the final notebook, but is there anything we can glean, initially?"
   ]
  },
  {
   "cell_type": "code",
   "execution_count": 300,
   "metadata": {},
   "outputs": [
    {
     "data": {
      "text/html": [
       "<div>\n",
       "<style scoped>\n",
       "    .dataframe tbody tr th:only-of-type {\n",
       "        vertical-align: middle;\n",
       "    }\n",
       "\n",
       "    .dataframe tbody tr th {\n",
       "        vertical-align: top;\n",
       "    }\n",
       "\n",
       "    .dataframe thead th {\n",
       "        text-align: right;\n",
       "    }\n",
       "</style>\n",
       "<table border=\"1\" class=\"dataframe\">\n",
       "  <thead>\n",
       "    <tr style=\"text-align: right;\">\n",
       "      <th></th>\n",
       "      <th>mean_energy</th>\n",
       "      <th>std_energy</th>\n",
       "      <th>min_energy</th>\n",
       "      <th>max_energy</th>\n",
       "      <th>max_rms</th>\n",
       "      <th>std_rms</th>\n",
       "      <th>median_rms</th>\n",
       "      <th>min_rms</th>\n",
       "      <th>mfcc_mean_00</th>\n",
       "      <th>mfcc_mean_01</th>\n",
       "      <th>...</th>\n",
       "      <th>mfcc_min_05</th>\n",
       "      <th>mfcc_min_06</th>\n",
       "      <th>mfcc_min_07</th>\n",
       "      <th>mfcc_min_08</th>\n",
       "      <th>mfcc_min_09</th>\n",
       "      <th>mfcc_min_10</th>\n",
       "      <th>mfcc_min_11</th>\n",
       "      <th>genre</th>\n",
       "      <th>preds</th>\n",
       "      <th>track_name</th>\n",
       "    </tr>\n",
       "  </thead>\n",
       "  <tbody>\n",
       "    <tr>\n",
       "      <th>3195</th>\n",
       "      <td>24.843471</td>\n",
       "      <td>43.473087</td>\n",
       "      <td>0.711391</td>\n",
       "      <td>312.387702</td>\n",
       "      <td>0.781110</td>\n",
       "      <td>0.116883</td>\n",
       "      <td>0.156280</td>\n",
       "      <td>0.037275</td>\n",
       "      <td>-141.366699</td>\n",
       "      <td>133.685287</td>\n",
       "      <td>...</td>\n",
       "      <td>-20.908154</td>\n",
       "      <td>-35.137718</td>\n",
       "      <td>-27.743557</td>\n",
       "      <td>-29.407875</td>\n",
       "      <td>-26.499763</td>\n",
       "      <td>-27.540306</td>\n",
       "      <td>-25.050533</td>\n",
       "      <td>rap</td>\n",
       "      <td>r&amp;b</td>\n",
       "      <td>Let Me Love You</td>\n",
       "    </tr>\n",
       "    <tr>\n",
       "      <th>3321</th>\n",
       "      <td>26.590519</td>\n",
       "      <td>29.747921</td>\n",
       "      <td>0.191029</td>\n",
       "      <td>273.605072</td>\n",
       "      <td>0.731016</td>\n",
       "      <td>0.110927</td>\n",
       "      <td>0.180929</td>\n",
       "      <td>0.019316</td>\n",
       "      <td>-133.751358</td>\n",
       "      <td>115.526764</td>\n",
       "      <td>...</td>\n",
       "      <td>-15.578063</td>\n",
       "      <td>-50.545280</td>\n",
       "      <td>-39.140114</td>\n",
       "      <td>-38.253895</td>\n",
       "      <td>-32.995163</td>\n",
       "      <td>-34.234432</td>\n",
       "      <td>-34.955311</td>\n",
       "      <td>rap</td>\n",
       "      <td>r&amp;b</td>\n",
       "      <td>Only You (feat. The Notorious B.I.G. &amp; Mase) -...</td>\n",
       "    </tr>\n",
       "    <tr>\n",
       "      <th>3165</th>\n",
       "      <td>47.097539</td>\n",
       "      <td>23.124728</td>\n",
       "      <td>1.186404</td>\n",
       "      <td>163.884424</td>\n",
       "      <td>0.565762</td>\n",
       "      <td>0.077898</td>\n",
       "      <td>0.299036</td>\n",
       "      <td>0.048137</td>\n",
       "      <td>-74.971954</td>\n",
       "      <td>114.833939</td>\n",
       "      <td>...</td>\n",
       "      <td>-24.593081</td>\n",
       "      <td>-79.668434</td>\n",
       "      <td>-25.795635</td>\n",
       "      <td>-51.206230</td>\n",
       "      <td>-33.526154</td>\n",
       "      <td>-35.183311</td>\n",
       "      <td>-32.016739</td>\n",
       "      <td>rap</td>\n",
       "      <td>r&amp;b</td>\n",
       "      <td>Lean Back (feat. Lil Jon, Eminem, Mase &amp; Remy ...</td>\n",
       "    </tr>\n",
       "    <tr>\n",
       "      <th>3245</th>\n",
       "      <td>29.673278</td>\n",
       "      <td>31.338210</td>\n",
       "      <td>0.298578</td>\n",
       "      <td>281.688644</td>\n",
       "      <td>0.741737</td>\n",
       "      <td>0.099919</td>\n",
       "      <td>0.205723</td>\n",
       "      <td>0.024149</td>\n",
       "      <td>-104.038696</td>\n",
       "      <td>130.311005</td>\n",
       "      <td>...</td>\n",
       "      <td>-15.830107</td>\n",
       "      <td>-53.566849</td>\n",
       "      <td>-32.964211</td>\n",
       "      <td>-33.709805</td>\n",
       "      <td>-41.523914</td>\n",
       "      <td>-34.184483</td>\n",
       "      <td>-26.018078</td>\n",
       "      <td>rap</td>\n",
       "      <td>r&amp;b</td>\n",
       "      <td>How Could You</td>\n",
       "    </tr>\n",
       "    <tr>\n",
       "      <th>3335</th>\n",
       "      <td>60.966544</td>\n",
       "      <td>56.715459</td>\n",
       "      <td>0.013328</td>\n",
       "      <td>335.565174</td>\n",
       "      <td>0.809568</td>\n",
       "      <td>0.142688</td>\n",
       "      <td>0.282822</td>\n",
       "      <td>0.005102</td>\n",
       "      <td>-79.955498</td>\n",
       "      <td>124.234909</td>\n",
       "      <td>...</td>\n",
       "      <td>-5.862773</td>\n",
       "      <td>-69.910767</td>\n",
       "      <td>-28.862019</td>\n",
       "      <td>-38.025276</td>\n",
       "      <td>-47.551888</td>\n",
       "      <td>-29.548595</td>\n",
       "      <td>-38.075996</td>\n",
       "      <td>rap</td>\n",
       "      <td>r&amp;b</td>\n",
       "      <td>Panini - DaBaby Remix</td>\n",
       "    </tr>\n",
       "  </tbody>\n",
       "</table>\n",
       "<p>5 rows × 59 columns</p>\n",
       "</div>"
      ],
      "text/plain": [
       "      mean_energy  std_energy  min_energy  max_energy   max_rms   std_rms  \\\n",
       "3195    24.843471   43.473087    0.711391  312.387702  0.781110  0.116883   \n",
       "3321    26.590519   29.747921    0.191029  273.605072  0.731016  0.110927   \n",
       "3165    47.097539   23.124728    1.186404  163.884424  0.565762  0.077898   \n",
       "3245    29.673278   31.338210    0.298578  281.688644  0.741737  0.099919   \n",
       "3335    60.966544   56.715459    0.013328  335.565174  0.809568  0.142688   \n",
       "\n",
       "      median_rms   min_rms  mfcc_mean_00  mfcc_mean_01  ...  mfcc_min_05  \\\n",
       "3195    0.156280  0.037275   -141.366699    133.685287  ...   -20.908154   \n",
       "3321    0.180929  0.019316   -133.751358    115.526764  ...   -15.578063   \n",
       "3165    0.299036  0.048137    -74.971954    114.833939  ...   -24.593081   \n",
       "3245    0.205723  0.024149   -104.038696    130.311005  ...   -15.830107   \n",
       "3335    0.282822  0.005102    -79.955498    124.234909  ...    -5.862773   \n",
       "\n",
       "      mfcc_min_06  mfcc_min_07  mfcc_min_08  mfcc_min_09  mfcc_min_10  \\\n",
       "3195   -35.137718   -27.743557   -29.407875   -26.499763   -27.540306   \n",
       "3321   -50.545280   -39.140114   -38.253895   -32.995163   -34.234432   \n",
       "3165   -79.668434   -25.795635   -51.206230   -33.526154   -35.183311   \n",
       "3245   -53.566849   -32.964211   -33.709805   -41.523914   -34.184483   \n",
       "3335   -69.910767   -28.862019   -38.025276   -47.551888   -29.548595   \n",
       "\n",
       "      mfcc_min_11  genre  preds  \\\n",
       "3195   -25.050533    rap    r&b   \n",
       "3321   -34.955311    rap    r&b   \n",
       "3165   -32.016739    rap    r&b   \n",
       "3245   -26.018078    rap    r&b   \n",
       "3335   -38.075996    rap    r&b   \n",
       "\n",
       "                                             track_name  \n",
       "3195                                    Let Me Love You  \n",
       "3321  Only You (feat. The Notorious B.I.G. & Mase) -...  \n",
       "3165  Lean Back (feat. Lil Jon, Eminem, Mase & Remy ...  \n",
       "3245                                      How Could You  \n",
       "3335                              Panini - DaBaby Remix  \n",
       "\n",
       "[5 rows x 59 columns]"
      ]
     },
     "execution_count": 300,
     "metadata": {},
     "output_type": "execute_result"
    }
   ],
   "source": [
    "results_wrong[(results_wrong['preds'] == 'r&b') & (results_wrong['genre'] == 'rap')].head()"
   ]
  },
  {
   "cell_type": "markdown",
   "metadata": {},
   "source": [
    "In my conclusions, I want to listen to some of the songs that were misclassified and determine what might be causing the misclassifications. **Is there something that I can hear as a feature to separate the genres?**"
   ]
  },
  {
   "cell_type": "code",
   "execution_count": 302,
   "metadata": {},
   "outputs": [],
   "source": [
    "group_preds = results_wrong.groupby('preds').mean()"
   ]
  },
  {
   "cell_type": "code",
   "execution_count": 344,
   "metadata": {},
   "outputs": [
    {
     "data": {
      "text/plain": [
       "<AxesSubplot:title={'center':'Percent Predicted Wrong'}>"
      ]
     },
     "execution_count": 344,
     "metadata": {},
     "output_type": "execute_result"
    },
    {
     "data": {
      "image/png": "[encoded data removed]",
      "text/plain": [
       "<Figure size 864x504 with 1 Axes>"
      ]
     },
     "metadata": {},
     "output_type": "display_data"
    }
   ],
   "source": [
    "results_wrong['genre'].value_counts(normalize=True).plot(kind='barh', title='Percent Predicted Wrong', fontsize=16, figsize=(12,7))"
   ]
  },
  {
   "cell_type": "markdown",
   "metadata": {},
   "source": [
    "Classical and pop are near the top of the list of \"most incorrectly predicted\". These genres are more generic genres with many subgenres underneath. It makes sense that the model wasn't able to predict well."
   ]
  },
  {
   "cell_type": "code",
   "execution_count": 348,
   "metadata": {},
   "outputs": [
    {
     "data": {
      "text/plain": [
       "pop                      0.189338\n",
       "hip hop                  0.159926\n",
       "classical                0.159926\n",
       "r&b                      0.110294\n",
       "rap                      0.110294\n",
       "baroque                  0.088235\n",
       "serialism                0.056985\n",
       "tropical house           0.047794\n",
       "rock                     0.040441\n",
       "progressive bluegrass    0.036765\n",
       "Name: genre, dtype: float64"
      ]
     },
     "execution_count": 348,
     "metadata": {},
     "output_type": "execute_result"
    }
   ],
   "source": [
    "results_wrong['genre'].value_counts(normalize=True)"
   ]
  },
  {
   "cell_type": "code",
   "execution_count": 346,
   "metadata": {},
   "outputs": [
    {
     "data": {
      "text/plain": [
       "hip hop           0.533333\n",
       "r&b               0.183333\n",
       "pop               0.150000\n",
       "tropical house    0.116667\n",
       "rock              0.016667\n",
       "Name: preds, dtype: float64"
      ]
     },
     "execution_count": 346,
     "metadata": {},
     "output_type": "execute_result"
    }
   ],
   "source": [
    "results_wrong[results_wrong['genre'] == 'rap']['preds'].value_counts(normalize=True)"
   ]
  },
  {
   "cell_type": "markdown",
   "metadata": {},
   "source": [
    "Contrary to the last model, **when rap is predicted wrong, it is most likely to be predicted as hip hop**. This means our 10-genre model more closely relates rap with hip hop. As a refresher, when our 5-genre model predicted rap wrong, it predicted it as r&b 100% of the time."
   ]
  },
  {
   "cell_type": "code",
   "execution_count": 316,
   "metadata": {},
   "outputs": [
    {
     "data": {
      "text/plain": [
       "rap                      0.350000\n",
       "hip hop                  0.233333\n",
       "pop                      0.200000\n",
       "tropical house           0.133333\n",
       "rock                     0.050000\n",
       "progressive bluegrass    0.033333\n",
       "Name: preds, dtype: float64"
      ]
     },
     "execution_count": 316,
     "metadata": {},
     "output_type": "execute_result"
    }
   ],
   "source": [
    "results_wrong[results_wrong['genre'] == 'r&b']['preds'].value_counts(normalize=True)"
   ]
  },
  {
   "cell_type": "markdown",
   "metadata": {},
   "source": [
    "Contrary to the 5-genre model, **when R&B is predicted wrong, it's predicted to be rap only 35% of the time**, down from 84% of the time in the 5-genre model."
   ]
  },
  {
   "cell_type": "code",
   "execution_count": 318,
   "metadata": {},
   "outputs": [
    {
     "data": {
      "text/html": [
       "<div>\n",
       "<style scoped>\n",
       "    .dataframe tbody tr th:only-of-type {\n",
       "        vertical-align: middle;\n",
       "    }\n",
       "\n",
       "    .dataframe tbody tr th {\n",
       "        vertical-align: top;\n",
       "    }\n",
       "\n",
       "    .dataframe thead th {\n",
       "        text-align: right;\n",
       "    }\n",
       "</style>\n",
       "<table border=\"1\" class=\"dataframe\">\n",
       "  <thead>\n",
       "    <tr style=\"text-align: right;\">\n",
       "      <th></th>\n",
       "      <th>Unnamed: 0</th>\n",
       "      <th>danceability</th>\n",
       "      <th>energy</th>\n",
       "      <th>key</th>\n",
       "      <th>loudness</th>\n",
       "      <th>mode</th>\n",
       "      <th>speechiness</th>\n",
       "      <th>acousticness</th>\n",
       "      <th>instrumentalness</th>\n",
       "      <th>liveness</th>\n",
       "      <th>...</th>\n",
       "      <th>mfcc_min_02</th>\n",
       "      <th>mfcc_min_03</th>\n",
       "      <th>mfcc_min_04</th>\n",
       "      <th>mfcc_min_05</th>\n",
       "      <th>mfcc_min_06</th>\n",
       "      <th>mfcc_min_07</th>\n",
       "      <th>mfcc_min_08</th>\n",
       "      <th>mfcc_min_09</th>\n",
       "      <th>mfcc_min_10</th>\n",
       "      <th>mfcc_min_11</th>\n",
       "    </tr>\n",
       "    <tr>\n",
       "      <th>genre</th>\n",
       "      <th></th>\n",
       "      <th></th>\n",
       "      <th></th>\n",
       "      <th></th>\n",
       "      <th></th>\n",
       "      <th></th>\n",
       "      <th></th>\n",
       "      <th></th>\n",
       "      <th></th>\n",
       "      <th></th>\n",
       "      <th></th>\n",
       "      <th></th>\n",
       "      <th></th>\n",
       "      <th></th>\n",
       "      <th></th>\n",
       "      <th></th>\n",
       "      <th></th>\n",
       "      <th></th>\n",
       "      <th></th>\n",
       "      <th></th>\n",
       "      <th></th>\n",
       "    </tr>\n",
       "  </thead>\n",
       "  <tbody>\n",
       "    <tr>\n",
       "      <th>baroque</th>\n",
       "      <td>249.5</td>\n",
       "      <td>0.392776</td>\n",
       "      <td>0.178952</td>\n",
       "      <td>5.17000</td>\n",
       "      <td>-19.286864</td>\n",
       "      <td>0.588000</td>\n",
       "      <td>0.045943</td>\n",
       "      <td>0.882358</td>\n",
       "      <td>0.348177</td>\n",
       "      <td>0.155504</td>\n",
       "      <td>...</td>\n",
       "      <td>-75.971891</td>\n",
       "      <td>-22.550999</td>\n",
       "      <td>-41.328129</td>\n",
       "      <td>-30.099411</td>\n",
       "      <td>-42.864089</td>\n",
       "      <td>-33.821564</td>\n",
       "      <td>-33.110345</td>\n",
       "      <td>-32.652442</td>\n",
       "      <td>-33.419325</td>\n",
       "      <td>-31.438058</td>\n",
       "    </tr>\n",
       "    <tr>\n",
       "      <th>classical</th>\n",
       "      <td>749.0</td>\n",
       "      <td>0.340965</td>\n",
       "      <td>0.133792</td>\n",
       "      <td>5.44489</td>\n",
       "      <td>-21.918160</td>\n",
       "      <td>0.639279</td>\n",
       "      <td>0.051771</td>\n",
       "      <td>0.927493</td>\n",
       "      <td>0.419166</td>\n",
       "      <td>0.159003</td>\n",
       "      <td>...</td>\n",
       "      <td>-76.696989</td>\n",
       "      <td>-32.352754</td>\n",
       "      <td>-41.180309</td>\n",
       "      <td>-31.188402</td>\n",
       "      <td>-42.927496</td>\n",
       "      <td>-34.955436</td>\n",
       "      <td>-32.577203</td>\n",
       "      <td>-35.036528</td>\n",
       "      <td>-35.137971</td>\n",
       "      <td>-32.258754</td>\n",
       "    </tr>\n",
       "    <tr>\n",
       "      <th>hip hop</th>\n",
       "      <td>1248.5</td>\n",
       "      <td>0.731250</td>\n",
       "      <td>0.610512</td>\n",
       "      <td>5.39600</td>\n",
       "      <td>-6.852598</td>\n",
       "      <td>0.552000</td>\n",
       "      <td>0.174632</td>\n",
       "      <td>0.161367</td>\n",
       "      <td>0.008938</td>\n",
       "      <td>0.181947</td>\n",
       "      <td>...</td>\n",
       "      <td>-98.550016</td>\n",
       "      <td>-19.435611</td>\n",
       "      <td>-80.739902</td>\n",
       "      <td>-29.751877</td>\n",
       "      <td>-62.105309</td>\n",
       "      <td>-34.761623</td>\n",
       "      <td>-43.518967</td>\n",
       "      <td>-40.672408</td>\n",
       "      <td>-38.398482</td>\n",
       "      <td>-36.357959</td>\n",
       "    </tr>\n",
       "    <tr>\n",
       "      <th>pop</th>\n",
       "      <td>1748.5</td>\n",
       "      <td>0.650358</td>\n",
       "      <td>0.631876</td>\n",
       "      <td>5.27800</td>\n",
       "      <td>-6.650136</td>\n",
       "      <td>0.542000</td>\n",
       "      <td>0.099121</td>\n",
       "      <td>0.210477</td>\n",
       "      <td>0.009734</td>\n",
       "      <td>0.169190</td>\n",
       "      <td>...</td>\n",
       "      <td>-94.344199</td>\n",
       "      <td>-16.135661</td>\n",
       "      <td>-75.881946</td>\n",
       "      <td>-25.403887</td>\n",
       "      <td>-59.400475</td>\n",
       "      <td>-30.692582</td>\n",
       "      <td>-41.888531</td>\n",
       "      <td>-39.048395</td>\n",
       "      <td>-34.398374</td>\n",
       "      <td>-35.150718</td>\n",
       "    </tr>\n",
       "    <tr>\n",
       "      <th>progressive bluegrass</th>\n",
       "      <td>2248.5</td>\n",
       "      <td>0.522036</td>\n",
       "      <td>0.493759</td>\n",
       "      <td>5.43000</td>\n",
       "      <td>-10.392788</td>\n",
       "      <td>0.888000</td>\n",
       "      <td>0.037986</td>\n",
       "      <td>0.602202</td>\n",
       "      <td>0.257000</td>\n",
       "      <td>0.197003</td>\n",
       "      <td>...</td>\n",
       "      <td>-77.584334</td>\n",
       "      <td>-3.454413</td>\n",
       "      <td>-55.450037</td>\n",
       "      <td>-22.412720</td>\n",
       "      <td>-45.500141</td>\n",
       "      <td>-26.676779</td>\n",
       "      <td>-34.844463</td>\n",
       "      <td>-31.084369</td>\n",
       "      <td>-29.514466</td>\n",
       "      <td>-30.581459</td>\n",
       "    </tr>\n",
       "    <tr>\n",
       "      <th>r&amp;b</th>\n",
       "      <td>2748.5</td>\n",
       "      <td>0.663824</td>\n",
       "      <td>0.573404</td>\n",
       "      <td>5.42200</td>\n",
       "      <td>-7.103356</td>\n",
       "      <td>0.472000</td>\n",
       "      <td>0.116913</td>\n",
       "      <td>0.231983</td>\n",
       "      <td>0.002525</td>\n",
       "      <td>0.170672</td>\n",
       "      <td>...</td>\n",
       "      <td>-91.641489</td>\n",
       "      <td>-12.109096</td>\n",
       "      <td>-76.476512</td>\n",
       "      <td>-22.847416</td>\n",
       "      <td>-62.280553</td>\n",
       "      <td>-29.303920</td>\n",
       "      <td>-42.134445</td>\n",
       "      <td>-40.933118</td>\n",
       "      <td>-35.010473</td>\n",
       "      <td>-34.956445</td>\n",
       "    </tr>\n",
       "    <tr>\n",
       "      <th>rap</th>\n",
       "      <td>3248.5</td>\n",
       "      <td>0.743980</td>\n",
       "      <td>0.599746</td>\n",
       "      <td>5.15200</td>\n",
       "      <td>-7.045948</td>\n",
       "      <td>0.516000</td>\n",
       "      <td>0.198736</td>\n",
       "      <td>0.153012</td>\n",
       "      <td>0.002407</td>\n",
       "      <td>0.173035</td>\n",
       "      <td>...</td>\n",
       "      <td>-102.045965</td>\n",
       "      <td>-24.429310</td>\n",
       "      <td>-84.422738</td>\n",
       "      <td>-30.773351</td>\n",
       "      <td>-61.048286</td>\n",
       "      <td>-35.852423</td>\n",
       "      <td>-43.126662</td>\n",
       "      <td>-41.254970</td>\n",
       "      <td>-38.848292</td>\n",
       "      <td>-36.994907</td>\n",
       "    </tr>\n",
       "    <tr>\n",
       "      <th>rock</th>\n",
       "      <td>3748.5</td>\n",
       "      <td>0.474469</td>\n",
       "      <td>0.711504</td>\n",
       "      <td>5.14000</td>\n",
       "      <td>-8.279630</td>\n",
       "      <td>0.752000</td>\n",
       "      <td>0.066935</td>\n",
       "      <td>0.168508</td>\n",
       "      <td>0.062943</td>\n",
       "      <td>0.190533</td>\n",
       "      <td>...</td>\n",
       "      <td>-99.444419</td>\n",
       "      <td>7.600111</td>\n",
       "      <td>-56.544910</td>\n",
       "      <td>-15.355177</td>\n",
       "      <td>-45.175749</td>\n",
       "      <td>-22.740514</td>\n",
       "      <td>-32.291102</td>\n",
       "      <td>-25.826905</td>\n",
       "      <td>-26.582750</td>\n",
       "      <td>-26.676978</td>\n",
       "    </tr>\n",
       "    <tr>\n",
       "      <th>serialism</th>\n",
       "      <td>4248.5</td>\n",
       "      <td>0.333918</td>\n",
       "      <td>0.084959</td>\n",
       "      <td>5.03000</td>\n",
       "      <td>-24.444934</td>\n",
       "      <td>0.636000</td>\n",
       "      <td>0.055611</td>\n",
       "      <td>0.953536</td>\n",
       "      <td>0.352695</td>\n",
       "      <td>0.185078</td>\n",
       "      <td>...</td>\n",
       "      <td>-88.585471</td>\n",
       "      <td>-43.169151</td>\n",
       "      <td>-47.170562</td>\n",
       "      <td>-38.795953</td>\n",
       "      <td>-46.036442</td>\n",
       "      <td>-37.501629</td>\n",
       "      <td>-34.693470</td>\n",
       "      <td>-41.200513</td>\n",
       "      <td>-37.620380</td>\n",
       "      <td>-34.527494</td>\n",
       "    </tr>\n",
       "    <tr>\n",
       "      <th>tropical house</th>\n",
       "      <td>4748.5</td>\n",
       "      <td>0.678850</td>\n",
       "      <td>0.722866</td>\n",
       "      <td>5.35000</td>\n",
       "      <td>-6.459808</td>\n",
       "      <td>0.546000</td>\n",
       "      <td>0.066245</td>\n",
       "      <td>0.147789</td>\n",
       "      <td>0.096117</td>\n",
       "      <td>0.185949</td>\n",
       "      <td>...</td>\n",
       "      <td>-92.463085</td>\n",
       "      <td>-14.523916</td>\n",
       "      <td>-72.467223</td>\n",
       "      <td>-22.632150</td>\n",
       "      <td>-55.067242</td>\n",
       "      <td>-30.257312</td>\n",
       "      <td>-41.376284</td>\n",
       "      <td>-35.285177</td>\n",
       "      <td>-33.183859</td>\n",
       "      <td>-34.603237</td>\n",
       "    </tr>\n",
       "  </tbody>\n",
       "</table>\n",
       "<p>10 rows × 68 columns</p>\n",
       "</div>"
      ],
      "text/plain": [
       "                       Unnamed: 0  danceability    energy      key   loudness  \\\n",
       "genre                                                                           \n",
       "baroque                     249.5      0.392776  0.178952  5.17000 -19.286864   \n",
       "classical                   749.0      0.340965  0.133792  5.44489 -21.918160   \n",
       "hip hop                    1248.5      0.731250  0.610512  5.39600  -6.852598   \n",
       "pop                        1748.5      0.650358  0.631876  5.27800  -6.650136   \n",
       "progressive bluegrass      2248.5      0.522036  0.493759  5.43000 -10.392788   \n",
       "r&b                        2748.5      0.663824  0.573404  5.42200  -7.103356   \n",
       "rap                        3248.5      0.743980  0.599746  5.15200  -7.045948   \n",
       "rock                       3748.5      0.474469  0.711504  5.14000  -8.279630   \n",
       "serialism                  4248.5      0.333918  0.084959  5.03000 -24.444934   \n",
       "tropical house             4748.5      0.678850  0.722866  5.35000  -6.459808   \n",
       "\n",
       "                           mode  speechiness  acousticness  instrumentalness  \\\n",
       "genre                                                                          \n",
       "baroque                0.588000     0.045943      0.882358          0.348177   \n",
       "classical              0.639279     0.051771      0.927493          0.419166   \n",
       "hip hop                0.552000     0.174632      0.161367          0.008938   \n",
       "pop                    0.542000     0.099121      0.210477          0.009734   \n",
       "progressive bluegrass  0.888000     0.037986      0.602202          0.257000   \n",
       "r&b                    0.472000     0.116913      0.231983          0.002525   \n",
       "rap                    0.516000     0.198736      0.153012          0.002407   \n",
       "rock                   0.752000     0.066935      0.168508          0.062943   \n",
       "serialism              0.636000     0.055611      0.953536          0.352695   \n",
       "tropical house         0.546000     0.066245      0.147789          0.096117   \n",
       "\n",
       "                       liveness  ...  mfcc_min_02  mfcc_min_03  mfcc_min_04  \\\n",
       "genre                            ...                                          \n",
       "baroque                0.155504  ...   -75.971891   -22.550999   -41.328129   \n",
       "classical              0.159003  ...   -76.696989   -32.352754   -41.180309   \n",
       "hip hop                0.181947  ...   -98.550016   -19.435611   -80.739902   \n",
       "pop                    0.169190  ...   -94.344199   -16.135661   -75.881946   \n",
       "progressive bluegrass  0.197003  ...   -77.584334    -3.454413   -55.450037   \n",
       "r&b                    0.170672  ...   -91.641489   -12.109096   -76.476512   \n",
       "rap                    0.173035  ...  -102.045965   -24.429310   -84.422738   \n",
       "rock                   0.190533  ...   -99.444419     7.600111   -56.544910   \n",
       "serialism              0.185078  ...   -88.585471   -43.169151   -47.170562   \n",
       "tropical house         0.185949  ...   -92.463085   -14.523916   -72.467223   \n",
       "\n",
       "                       mfcc_min_05  mfcc_min_06  mfcc_min_07  mfcc_min_08  \\\n",
       "genre                                                                       \n",
       "baroque                 -30.099411   -42.864089   -33.821564   -33.110345   \n",
       "classical               -31.188402   -42.927496   -34.955436   -32.577203   \n",
       "hip hop                 -29.751877   -62.105309   -34.761623   -43.518967   \n",
       "pop                     -25.403887   -59.400475   -30.692582   -41.888531   \n",
       "progressive bluegrass   -22.412720   -45.500141   -26.676779   -34.844463   \n",
       "r&b                     -22.847416   -62.280553   -29.303920   -42.134445   \n",
       "rap                     -30.773351   -61.048286   -35.852423   -43.126662   \n",
       "rock                    -15.355177   -45.175749   -22.740514   -32.291102   \n",
       "serialism               -38.795953   -46.036442   -37.501629   -34.693470   \n",
       "tropical house          -22.632150   -55.067242   -30.257312   -41.376284   \n",
       "\n",
       "                       mfcc_min_09  mfcc_min_10  mfcc_min_11  \n",
       "genre                                                         \n",
       "baroque                 -32.652442   -33.419325   -31.438058  \n",
       "classical               -35.036528   -35.137971   -32.258754  \n",
       "hip hop                 -40.672408   -38.398482   -36.357959  \n",
       "pop                     -39.048395   -34.398374   -35.150718  \n",
       "progressive bluegrass   -31.084369   -29.514466   -30.581459  \n",
       "r&b                     -40.933118   -35.010473   -34.956445  \n",
       "rap                     -41.254970   -38.848292   -36.994907  \n",
       "rock                    -25.826905   -26.582750   -26.676978  \n",
       "serialism               -41.200513   -37.620380   -34.527494  \n",
       "tropical house          -35.285177   -33.183859   -34.603237  \n",
       "\n",
       "[10 rows x 68 columns]"
      ]
     },
     "execution_count": 318,
     "metadata": {},
     "output_type": "execute_result"
    }
   ],
   "source": [
    "genre_mean = songs.groupby('genre').mean()\n",
    "genre_mean"
   ]
  },
  {
   "cell_type": "code",
   "execution_count": 6,
   "metadata": {},
   "outputs": [],
   "source": [
    "cnn_df = songs[['mfcc_calc', 'genre']].explode('mfcc_calc')"
   ]
  },
  {
   "cell_type": "code",
   "execution_count": 120,
   "metadata": {},
   "outputs": [],
   "source": [
    "def cnn_sequential_prep(data, column, rename_suffix, n_windows, drop=True):\n",
    "    '''\n",
    "    Picks sequential rows from data on a given column.\n",
    "    Dataframe passed should include a calculation column\n",
    "    and a categorical column.\n",
    "    '''\n",
    "    grouped = data.groupby(data.index).apply(lambda x: x.iloc[:n_windows]) # Group data by index\n",
    "    grouped_tag = grouped.droplevel(0)[column].progress_apply(pd.Series) # Turns each item in array into its own column\n",
    "    grouped_tag = grouped_tag.rename(columns = lambda x: rename_suffix + str(x)) # Rename columns so I know what they are\n",
    "    final = pd.concat([grouped_tag[:], grouped.droplevel(0)[:]], axis=1) # Concatenate with original dataframe\n",
    "    if drop:\n",
    "        final.drop(columns=column)\n",
    "    \n",
    "    return final"
   ]
  },
  {
   "cell_type": "code",
   "execution_count": 121,
   "metadata": {},
   "outputs": [
    {
     "name": "stderr",
     "output_type": "stream",
     "text": [
      "100%|██████████| 49990/49990 [00:06<00:00, 7470.28it/s] \n"
     ]
    }
   ],
   "source": [
    "first_10_windows = cnn_sequential_prep(cnn_df, 'mfcc_calc', 'mfcc_', 10) # first 10 time windows generated sequentially"
   ]
  },
  {
   "cell_type": "code",
   "execution_count": 123,
   "metadata": {},
   "outputs": [
    {
     "data": {
      "text/html": [
       "<div>\n",
       "<style scoped>\n",
       "    .dataframe tbody tr th:only-of-type {\n",
       "        vertical-align: middle;\n",
       "    }\n",
       "\n",
       "    .dataframe tbody tr th {\n",
       "        vertical-align: top;\n",
       "    }\n",
       "\n",
       "    .dataframe thead th {\n",
       "        text-align: right;\n",
       "    }\n",
       "</style>\n",
       "<table border=\"1\" class=\"dataframe\">\n",
       "  <thead>\n",
       "    <tr style=\"text-align: right;\">\n",
       "      <th></th>\n",
       "      <th>mfcc_0</th>\n",
       "      <th>mfcc_1</th>\n",
       "      <th>mfcc_2</th>\n",
       "      <th>mfcc_3</th>\n",
       "      <th>mfcc_4</th>\n",
       "      <th>mfcc_5</th>\n",
       "      <th>mfcc_6</th>\n",
       "      <th>mfcc_7</th>\n",
       "      <th>mfcc_8</th>\n",
       "      <th>mfcc_9</th>\n",
       "      <th>mfcc_10</th>\n",
       "      <th>mfcc_11</th>\n",
       "      <th>genre</th>\n",
       "    </tr>\n",
       "  </thead>\n",
       "  <tbody>\n",
       "    <tr>\n",
       "      <th>0</th>\n",
       "      <td>-260.384155</td>\n",
       "      <td>184.419159</td>\n",
       "      <td>-32.689117</td>\n",
       "      <td>8.517904</td>\n",
       "      <td>12.561333</td>\n",
       "      <td>-1.082070</td>\n",
       "      <td>12.131789</td>\n",
       "      <td>9.194002</td>\n",
       "      <td>2.832432</td>\n",
       "      <td>0.018565</td>\n",
       "      <td>0.959311</td>\n",
       "      <td>-9.422457</td>\n",
       "      <td>baroque</td>\n",
       "    </tr>\n",
       "    <tr>\n",
       "      <th>0</th>\n",
       "      <td>-242.452362</td>\n",
       "      <td>172.554031</td>\n",
       "      <td>-36.633961</td>\n",
       "      <td>18.364727</td>\n",
       "      <td>8.966149</td>\n",
       "      <td>5.528990</td>\n",
       "      <td>2.863243</td>\n",
       "      <td>5.775057</td>\n",
       "      <td>4.440852</td>\n",
       "      <td>-0.442283</td>\n",
       "      <td>6.851048</td>\n",
       "      <td>-3.847106</td>\n",
       "      <td>baroque</td>\n",
       "    </tr>\n",
       "    <tr>\n",
       "      <th>0</th>\n",
       "      <td>-240.757248</td>\n",
       "      <td>159.320709</td>\n",
       "      <td>-38.285454</td>\n",
       "      <td>25.459965</td>\n",
       "      <td>6.085552</td>\n",
       "      <td>4.605653</td>\n",
       "      <td>-9.199607</td>\n",
       "      <td>-0.562701</td>\n",
       "      <td>-0.579649</td>\n",
       "      <td>-7.270251</td>\n",
       "      <td>6.902614</td>\n",
       "      <td>-0.223527</td>\n",
       "      <td>baroque</td>\n",
       "    </tr>\n",
       "    <tr>\n",
       "      <th>0</th>\n",
       "      <td>-241.107224</td>\n",
       "      <td>160.725159</td>\n",
       "      <td>-31.500217</td>\n",
       "      <td>34.618347</td>\n",
       "      <td>8.758875</td>\n",
       "      <td>2.615864</td>\n",
       "      <td>-9.318913</td>\n",
       "      <td>0.401442</td>\n",
       "      <td>-4.248247</td>\n",
       "      <td>-5.401270</td>\n",
       "      <td>10.745039</td>\n",
       "      <td>0.958741</td>\n",
       "      <td>baroque</td>\n",
       "    </tr>\n",
       "    <tr>\n",
       "      <th>0</th>\n",
       "      <td>-239.302216</td>\n",
       "      <td>163.978378</td>\n",
       "      <td>-26.646151</td>\n",
       "      <td>32.934128</td>\n",
       "      <td>9.104835</td>\n",
       "      <td>1.732316</td>\n",
       "      <td>-15.030292</td>\n",
       "      <td>3.801802</td>\n",
       "      <td>-0.649859</td>\n",
       "      <td>2.420203</td>\n",
       "      <td>20.973858</td>\n",
       "      <td>4.197099</td>\n",
       "      <td>baroque</td>\n",
       "    </tr>\n",
       "    <tr>\n",
       "      <th>...</th>\n",
       "      <td>...</td>\n",
       "      <td>...</td>\n",
       "      <td>...</td>\n",
       "      <td>...</td>\n",
       "      <td>...</td>\n",
       "      <td>...</td>\n",
       "      <td>...</td>\n",
       "      <td>...</td>\n",
       "      <td>...</td>\n",
       "      <td>...</td>\n",
       "      <td>...</td>\n",
       "      <td>...</td>\n",
       "      <td>...</td>\n",
       "    </tr>\n",
       "    <tr>\n",
       "      <th>4998</th>\n",
       "      <td>-144.634415</td>\n",
       "      <td>154.145416</td>\n",
       "      <td>-31.375298</td>\n",
       "      <td>69.032288</td>\n",
       "      <td>-10.431767</td>\n",
       "      <td>27.253874</td>\n",
       "      <td>21.941105</td>\n",
       "      <td>24.670368</td>\n",
       "      <td>22.471745</td>\n",
       "      <td>-7.226432</td>\n",
       "      <td>1.508565</td>\n",
       "      <td>-14.322573</td>\n",
       "      <td>tropical house</td>\n",
       "    </tr>\n",
       "    <tr>\n",
       "      <th>4998</th>\n",
       "      <td>-155.974884</td>\n",
       "      <td>152.568329</td>\n",
       "      <td>-24.223408</td>\n",
       "      <td>73.984558</td>\n",
       "      <td>-4.344028</td>\n",
       "      <td>25.294678</td>\n",
       "      <td>22.094257</td>\n",
       "      <td>22.101295</td>\n",
       "      <td>11.756784</td>\n",
       "      <td>-7.147667</td>\n",
       "      <td>2.309662</td>\n",
       "      <td>-15.297098</td>\n",
       "      <td>tropical house</td>\n",
       "    </tr>\n",
       "    <tr>\n",
       "      <th>4998</th>\n",
       "      <td>-165.527893</td>\n",
       "      <td>153.752975</td>\n",
       "      <td>-22.686428</td>\n",
       "      <td>78.097359</td>\n",
       "      <td>7.849333</td>\n",
       "      <td>20.310263</td>\n",
       "      <td>11.855047</td>\n",
       "      <td>20.966122</td>\n",
       "      <td>20.933315</td>\n",
       "      <td>-4.618083</td>\n",
       "      <td>-0.086283</td>\n",
       "      <td>-17.581715</td>\n",
       "      <td>tropical house</td>\n",
       "    </tr>\n",
       "    <tr>\n",
       "      <th>4998</th>\n",
       "      <td>-146.724350</td>\n",
       "      <td>151.618927</td>\n",
       "      <td>-19.515703</td>\n",
       "      <td>65.815552</td>\n",
       "      <td>13.192740</td>\n",
       "      <td>26.491226</td>\n",
       "      <td>5.733720</td>\n",
       "      <td>21.626116</td>\n",
       "      <td>6.503990</td>\n",
       "      <td>11.793239</td>\n",
       "      <td>-7.322265</td>\n",
       "      <td>-5.027958</td>\n",
       "      <td>tropical house</td>\n",
       "    </tr>\n",
       "    <tr>\n",
       "      <th>4998</th>\n",
       "      <td>-42.718697</td>\n",
       "      <td>162.190063</td>\n",
       "      <td>-34.577446</td>\n",
       "      <td>50.785645</td>\n",
       "      <td>-9.525893</td>\n",
       "      <td>29.618382</td>\n",
       "      <td>-13.901322</td>\n",
       "      <td>19.864204</td>\n",
       "      <td>-16.872259</td>\n",
       "      <td>24.769579</td>\n",
       "      <td>-10.781915</td>\n",
       "      <td>3.350006</td>\n",
       "      <td>tropical house</td>\n",
       "    </tr>\n",
       "  </tbody>\n",
       "</table>\n",
       "<p>49990 rows × 13 columns</p>\n",
       "</div>"
      ],
      "text/plain": [
       "          mfcc_0      mfcc_1     mfcc_2     mfcc_3     mfcc_4     mfcc_5  \\\n",
       "0    -260.384155  184.419159 -32.689117   8.517904  12.561333  -1.082070   \n",
       "0    -242.452362  172.554031 -36.633961  18.364727   8.966149   5.528990   \n",
       "0    -240.757248  159.320709 -38.285454  25.459965   6.085552   4.605653   \n",
       "0    -241.107224  160.725159 -31.500217  34.618347   8.758875   2.615864   \n",
       "0    -239.302216  163.978378 -26.646151  32.934128   9.104835   1.732316   \n",
       "...          ...         ...        ...        ...        ...        ...   \n",
       "4998 -144.634415  154.145416 -31.375298  69.032288 -10.431767  27.253874   \n",
       "4998 -155.974884  152.568329 -24.223408  73.984558  -4.344028  25.294678   \n",
       "4998 -165.527893  153.752975 -22.686428  78.097359   7.849333  20.310263   \n",
       "4998 -146.724350  151.618927 -19.515703  65.815552  13.192740  26.491226   \n",
       "4998  -42.718697  162.190063 -34.577446  50.785645  -9.525893  29.618382   \n",
       "\n",
       "         mfcc_6     mfcc_7     mfcc_8     mfcc_9    mfcc_10    mfcc_11  \\\n",
       "0     12.131789   9.194002   2.832432   0.018565   0.959311  -9.422457   \n",
       "0      2.863243   5.775057   4.440852  -0.442283   6.851048  -3.847106   \n",
       "0     -9.199607  -0.562701  -0.579649  -7.270251   6.902614  -0.223527   \n",
       "0     -9.318913   0.401442  -4.248247  -5.401270  10.745039   0.958741   \n",
       "0    -15.030292   3.801802  -0.649859   2.420203  20.973858   4.197099   \n",
       "...         ...        ...        ...        ...        ...        ...   \n",
       "4998  21.941105  24.670368  22.471745  -7.226432   1.508565 -14.322573   \n",
       "4998  22.094257  22.101295  11.756784  -7.147667   2.309662 -15.297098   \n",
       "4998  11.855047  20.966122  20.933315  -4.618083  -0.086283 -17.581715   \n",
       "4998   5.733720  21.626116   6.503990  11.793239  -7.322265  -5.027958   \n",
       "4998 -13.901322  19.864204 -16.872259  24.769579 -10.781915   3.350006   \n",
       "\n",
       "               genre  \n",
       "0            baroque  \n",
       "0            baroque  \n",
       "0            baroque  \n",
       "0            baroque  \n",
       "0            baroque  \n",
       "...              ...  \n",
       "4998  tropical house  \n",
       "4998  tropical house  \n",
       "4998  tropical house  \n",
       "4998  tropical house  \n",
       "4998  tropical house  \n",
       "\n",
       "[49990 rows x 13 columns]"
      ]
     },
     "execution_count": 123,
     "metadata": {},
     "output_type": "execute_result"
    }
   ],
   "source": [
    "first_10_windows"
   ]
  },
  {
   "cell_type": "markdown",
   "metadata": {},
   "source": [
    "## Convolutional Neural Network\n",
    "\n",
    "I've seen many people posting on the usefulness of CNNs for instrument and genre classification, and I wanted to try it out. Since Mel Frequency Cepstral Coefficients are used to generate spectrograms, they can be passed similarly to image data through a CNN."
   ]
  },
  {
   "cell_type": "code",
   "execution_count": 283,
   "metadata": {},
   "outputs": [],
   "source": [
    "# Some of my songs ended up being longer than 30 seconds, \n",
    "# so I had to reduce them all to the minimum number of windows (30 seconds)\n",
    "cnn_df = songs['mfcc_calc'].apply(lambda x: x[:2584]) "
   ]
  },
  {
   "cell_type": "code",
   "execution_count": 284,
   "metadata": {},
   "outputs": [
    {
     "name": "stderr",
     "output_type": "stream",
     "text": [
      "100%|██████████| 4999/4999 [00:37<00:00, 134.12it/s]\n"
     ]
    }
   ],
   "source": [
    "# Prepping the 2d mfcc_calcs to be passed through a CNN requires them\n",
    "# to be separated into columns\n",
    "for i in tqdm(range(len(cnn_df))):\n",
    "    cnn_df[i] = np.array([coef for window in cnn_df[i] for coef in window])"
   ]
  },
  {
   "cell_type": "code",
   "execution_count": 285,
   "metadata": {},
   "outputs": [
    {
     "name": "stderr",
     "output_type": "stream",
     "text": [
      "100%|██████████| 4999/4999 [00:05<00:00, 935.06it/s]  \n"
     ]
    }
   ],
   "source": [
    "# Let's split the lists into their own columns!\n",
    "cnn_df = cnn_df.progress_apply(pd.Series)"
   ]
  },
  {
   "cell_type": "code",
   "execution_count": 286,
   "metadata": {},
   "outputs": [],
   "source": [
    "cnn_df = pd.concat([cnn_df[:], songs[['genre']]], axis=1) # Adding genre to this df"
   ]
  },
  {
   "cell_type": "code",
   "execution_count": 287,
   "metadata": {},
   "outputs": [],
   "source": [
    "X = cnn_df.drop(columns='genre')\n",
    "# Thanks joris on SO: https://stackoverflow.com/questions/32011359/convert-categorical-data-in-pandas-dataframe/32011969\n",
    "y_cat = cnn_df['genre'].astype('category').cat.codes"
   ]
  },
  {
   "cell_type": "code",
   "execution_count": 288,
   "metadata": {},
   "outputs": [],
   "source": [
    "y = to_categorical(y_cat) # One Hot Encoding y"
   ]
  },
  {
   "cell_type": "code",
   "execution_count": 289,
   "metadata": {},
   "outputs": [],
   "source": [
    "X_train, X_test, y_train, y_test = train_test_split(X, y, stratify=y, random_state=182)"
   ]
  },
  {
   "cell_type": "code",
   "execution_count": 290,
   "metadata": {},
   "outputs": [],
   "source": [
    "X_train = X_train.astype('float32')\n",
    "X_test = X_test.astype('float32')"
   ]
  },
  {
   "cell_type": "code",
   "execution_count": 291,
   "metadata": {},
   "outputs": [],
   "source": [
    "# Scaling data for CNN\n",
    "sc = StandardScaler()\n",
    "X_train = sc.fit_transform(X_train)\n",
    "X_test = sc.transform(X_test)"
   ]
  },
  {
   "cell_type": "markdown",
   "metadata": {},
   "source": [
    "Data needs to be reshaped to be the size of the mfcc spectrogram, which is 2584 x 12 x 1"
   ]
  },
  {
   "cell_type": "code",
   "execution_count": 323,
   "metadata": {},
   "outputs": [],
   "source": [
    "X_train = X_train.reshape(X_train.shape[0], 2584, 12, 1)\n",
    "X_test = X_test.reshape(X_test.shape[0], 2584, 12, 1)"
   ]
  },
  {
   "cell_type": "code",
   "execution_count": 321,
   "metadata": {},
   "outputs": [
    {
     "name": "stdout",
     "output_type": "stream",
     "text": [
      "Epoch 1/30\n",
      "15/15 [==============================] - 3s 221ms/step - loss: 2.3184 - acc: 0.1094 - val_loss: 2.2513 - val_acc: 0.1816\n",
      "Epoch 2/30\n",
      "15/15 [==============================] - 3s 205ms/step - loss: 2.2303 - acc: 0.1440 - val_loss: 2.1527 - val_acc: 0.2352\n",
      "Epoch 3/30\n",
      "15/15 [==============================] - 3s 206ms/step - loss: 2.1575 - acc: 0.1750 - val_loss: 2.0717 - val_acc: 0.1960\n",
      "Epoch 4/30\n",
      "15/15 [==============================] - 3s 212ms/step - loss: 2.0955 - acc: 0.1905 - val_loss: 1.9910 - val_acc: 0.2312\n",
      "Epoch 5/30\n",
      "15/15 [==============================] - 3s 207ms/step - loss: 1.9996 - acc: 0.2139 - val_loss: 1.8945 - val_acc: 0.2560\n",
      "Epoch 6/30\n",
      "15/15 [==============================] - 3s 203ms/step - loss: 1.9173 - acc: 0.2499 - val_loss: 1.7639 - val_acc: 0.2984\n",
      "Epoch 7/30\n",
      "15/15 [==============================] - 3s 210ms/step - loss: 1.8073 - acc: 0.2734 - val_loss: 1.6527 - val_acc: 0.3440\n",
      "Epoch 8/30\n",
      "15/15 [==============================] - 3s 209ms/step - loss: 1.7217 - acc: 0.2990 - val_loss: 1.5671 - val_acc: 0.4032\n",
      "Epoch 9/30\n",
      "15/15 [==============================] - 3s 218ms/step - loss: 1.6611 - acc: 0.3129 - val_loss: 1.5282 - val_acc: 0.3768\n",
      "Epoch 10/30\n",
      "15/15 [==============================] - 3s 204ms/step - loss: 1.6234 - acc: 0.3417 - val_loss: 1.4982 - val_acc: 0.3920\n",
      "Epoch 11/30\n",
      "15/15 [==============================] - 3s 208ms/step - loss: 1.5540 - acc: 0.3582 - val_loss: 1.4561 - val_acc: 0.4312\n",
      "Epoch 12/30\n",
      "15/15 [==============================] - 3s 207ms/step - loss: 1.4941 - acc: 0.3796 - val_loss: 1.4028 - val_acc: 0.4288\n",
      "Epoch 13/30\n",
      "15/15 [==============================] - 3s 211ms/step - loss: 1.4659 - acc: 0.3974 - val_loss: 1.3962 - val_acc: 0.4424\n",
      "Epoch 14/30\n",
      "15/15 [==============================] - 3s 210ms/step - loss: 1.4280 - acc: 0.4129 - val_loss: 1.3438 - val_acc: 0.4672\n",
      "Epoch 15/30\n",
      "15/15 [==============================] - 2s 163ms/step - loss: 1.3824 - acc: 0.4252 - val_loss: 1.3272 - val_acc: 0.4792\n",
      "Epoch 16/30\n",
      "15/15 [==============================] - 2s 160ms/step - loss: 1.3461 - acc: 0.4276 - val_loss: 1.2815 - val_acc: 0.4840\n",
      "Epoch 17/30\n",
      "15/15 [==============================] - 2s 161ms/step - loss: 1.3218 - acc: 0.4449 - val_loss: 1.2582 - val_acc: 0.5024\n",
      "Epoch 18/30\n",
      "15/15 [==============================] - 2s 159ms/step - loss: 1.2758 - acc: 0.4657 - val_loss: 1.2875 - val_acc: 0.4728\n",
      "Epoch 19/30\n",
      "15/15 [==============================] - 2s 160ms/step - loss: 1.2670 - acc: 0.4657 - val_loss: 1.2315 - val_acc: 0.4992\n",
      "Epoch 20/30\n",
      "15/15 [==============================] - 2s 160ms/step - loss: 1.2314 - acc: 0.4804 - val_loss: 1.2201 - val_acc: 0.5056\n",
      "Epoch 21/30\n",
      "15/15 [==============================] - 2s 160ms/step - loss: 1.1936 - acc: 0.4999 - val_loss: 1.1839 - val_acc: 0.5208\n",
      "Epoch 22/30\n",
      "15/15 [==============================] - 2s 158ms/step - loss: 1.1617 - acc: 0.5060 - val_loss: 1.1731 - val_acc: 0.5232\n",
      "Epoch 23/30\n",
      "15/15 [==============================] - 2s 158ms/step - loss: 1.1260 - acc: 0.5164 - val_loss: 1.1523 - val_acc: 0.5352\n",
      "Epoch 24/30\n",
      "15/15 [==============================] - 2s 158ms/step - loss: 1.1235 - acc: 0.5313 - val_loss: 1.1870 - val_acc: 0.4976\n",
      "Epoch 25/30\n",
      "15/15 [==============================] - 2s 158ms/step - loss: 1.1038 - acc: 0.5329 - val_loss: 1.1640 - val_acc: 0.5400\n",
      "Epoch 26/30\n",
      "15/15 [==============================] - 2s 158ms/step - loss: 1.0666 - acc: 0.5503 - val_loss: 1.1895 - val_acc: 0.5080\n",
      "Epoch 27/30\n",
      "15/15 [==============================] - 2s 158ms/step - loss: 1.0605 - acc: 0.5516 - val_loss: 1.1715 - val_acc: 0.5136\n",
      "Epoch 28/30\n",
      "15/15 [==============================] - 2s 158ms/step - loss: 1.0377 - acc: 0.5743 - val_loss: 1.1315 - val_acc: 0.5416\n",
      "Epoch 29/30\n",
      "15/15 [==============================] - 2s 158ms/step - loss: 1.0040 - acc: 0.5714 - val_loss: 1.1217 - val_acc: 0.5400\n",
      "Epoch 30/30\n",
      "15/15 [==============================] - 2s 153ms/step - loss: 0.9841 - acc: 0.5863 - val_loss: 1.1305 - val_acc: 0.5384\n"
     ]
    }
   ],
   "source": [
    "cnn_model = Sequential()\n",
    "\n",
    "cnn_model.add(Conv2D(filters=6,\n",
    "                     kernel_size=(4, 4),\n",
    "                     activation='relu',\n",
    "                     input_shape=(X_train.shape[1], X_train.shape[2], 1)))\n",
    "\n",
    "cnn_model.add(MaxPooling2D(pool_size=(2,2)))\n",
    "cnn_model.add(Conv2D(filters=12,\n",
    "                     kernel_size=(3, 3),\n",
    "                     activation='relu',\n",
    "                     input_shape=(X_train.shape[1], X_train.shape[2], 1)))\n",
    "cnn_model.add(MaxPooling2D(pool_size=(2,2)))\n",
    "\n",
    "cnn_model.add(Flatten())\n",
    "cnn_model.add(Dense(64, activation='relu'))\n",
    "cnn_model.add(Dropout(0.25))\n",
    "cnn_model.add(Dense(32, activation='relu'))\n",
    "cnn_model.add(Dropout(0.25))\n",
    "cnn_model.add(Dense(16, activation='relu'))\n",
    "cnn_model.add(Dense(10, activation='softmax'))\n",
    "\n",
    "cnn_model.compile(optimizer='Adam', loss='categorical_crossentropy', metrics=['acc'])\n",
    "\n",
    "hist = cnn_model.fit(X_train, y_train,\n",
    "                epochs=30,\n",
    "                batch_size=256,\n",
    "                validation_data=(X_test, y_test),\n",
    "                    use_multiprocessing=True,\n",
    "                    verbose=1)"
   ]
  },
  {
   "cell_type": "code",
   "execution_count": 345,
   "metadata": {},
   "outputs": [
    {
     "data": {
      "image/png": "[encoded data removed]",
      "text/plain": [
       "<Figure size 432x288 with 1 Axes>"
      ]
     },
     "metadata": {},
     "output_type": "display_data"
    }
   ],
   "source": [
    "plt.plot(hist.history['acc'], label=\"Training Acc\")\n",
    "plt.plot(hist.history['val_acc'], label=\"Testing Acc\")\n",
    "plt.legend();"
   ]
  },
  {
   "cell_type": "markdown",
   "metadata": {},
   "source": [
    "## What's next?\n",
    "\n",
    "Conclusions! We've done some great modeling and are beating the baseline model (models using Spotify features) by "
   ]
  }
 ],
 "metadata": {
  "kernelspec": {
   "display_name": "Python 3",
   "language": "python",
   "name": "python3"
  },
  "language_info": {
   "codemirror_mode": {
    "name": "ipython",
    "version": 3
   },
   "file_extension": ".py",
   "mimetype": "text/x-python",
   "name": "python",
   "nbconvert_exporter": "python",
   "pygments_lexer": "ipython3",
   "version": "3.7.9"
  }
 },
 "nbformat": 4,
 "nbformat_minor": 4
}
