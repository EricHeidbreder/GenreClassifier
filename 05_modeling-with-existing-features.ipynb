{
 "cells": [
  {
   "cell_type": "code",
   "execution_count": 78,
   "metadata": {},
   "outputs": [],
   "source": [
    "import pandas as pd\n",
    "import numpy as np\n",
    "import matplotlib.pyplot as plt\n",
    "import seaborn as sns\n",
    "from sklearn.model_selection import train_test_split, cross_val_score, GridSearchCV\n",
    "from sklearn.svm import SVC\n",
    "from sklearn.ensemble import AdaBoostClassifier, BaggingClassifier, VotingClassifier, RandomForestClassifier\n",
    "from sklearn.pipeline import Pipeline\n",
    "from sklearn.tree import ExtraTreeClassifier, DecisionTreeClassifier\n",
    "from sklearn.preprocessing import StandardScaler, OneHotEncoder, PolynomialFeatures\n",
    "from tensorflow.keras.models import Sequential\n",
    "from tensorflow.keras.layers import Dense, Dropout\n",
    "from tensorflow.keras.utils import to_categorical\n",
    "from ast import literal_eval\n",
    "from tqdm import tqdm"
   ]
  },
  {
   "cell_type": "code",
   "execution_count": 79,
   "metadata": {},
   "outputs": [
    {
     "name": "stderr",
     "output_type": "stream",
     "text": [
      "C:\\ProgramData\\Anaconda3\\envs\\dsi\\lib\\site-packages\\tqdm\\std.py:670: FutureWarning: The Panel class is removed from pandas. Accessing it from the top-level namespace will also be removed in the next version\n",
      "  from pandas import Panel\n"
     ]
    }
   ],
   "source": [
    "tqdm.pandas()"
   ]
  },
  {
   "cell_type": "code",
   "execution_count": 124,
   "metadata": {},
   "outputs": [],
   "source": [
    "songs = pd.read_csv('./data/five_genres_500_samp.csv')"
   ]
  },
  {
   "cell_type": "code",
   "execution_count": 125,
   "metadata": {},
   "outputs": [
    {
     "name": "stdout",
     "output_type": "stream",
     "text": [
      "<class 'pandas.core.frame.DataFrame'>\n",
      "RangeIndex: 2500 entries, 0 to 2499\n",
      "Data columns (total 21 columns):\n",
      " #   Column            Non-Null Count  Dtype  \n",
      "---  ------            --------------  -----  \n",
      " 0   id                2500 non-null   object \n",
      " 1   genre             2500 non-null   object \n",
      " 2   track_name        2500 non-null   object \n",
      " 3   preview_url       2500 non-null   object \n",
      " 4   location          2500 non-null   object \n",
      " 5   filename          2500 non-null   object \n",
      " 6   artist            2500 non-null   object \n",
      " 7   artist_uri        2500 non-null   object \n",
      " 8   album             2500 non-null   object \n",
      " 9   release_date      2500 non-null   object \n",
      " 10  danceability      2500 non-null   float64\n",
      " 11  energy            2500 non-null   float64\n",
      " 12  key               2500 non-null   int64  \n",
      " 13  loudness          2500 non-null   float64\n",
      " 14  mode              2500 non-null   int64  \n",
      " 15  speechiness       2500 non-null   float64\n",
      " 16  acousticness      2500 non-null   float64\n",
      " 17  instrumentalness  2500 non-null   float64\n",
      " 18  liveness          2500 non-null   float64\n",
      " 19  valence           2500 non-null   float64\n",
      " 20  tempo             2500 non-null   float64\n",
      "dtypes: float64(9), int64(2), object(10)\n",
      "memory usage: 410.3+ KB\n"
     ]
    }
   ],
   "source": [
    "songs.info()"
   ]
  },
  {
   "cell_type": "code",
   "execution_count": 126,
   "metadata": {},
   "outputs": [
    {
     "data": {
      "text/html": [
       "<div>\n",
       "<style scoped>\n",
       "    .dataframe tbody tr th:only-of-type {\n",
       "        vertical-align: middle;\n",
       "    }\n",
       "\n",
       "    .dataframe tbody tr th {\n",
       "        vertical-align: top;\n",
       "    }\n",
       "\n",
       "    .dataframe thead th {\n",
       "        text-align: right;\n",
       "    }\n",
       "</style>\n",
       "<table border=\"1\" class=\"dataframe\">\n",
       "  <thead>\n",
       "    <tr style=\"text-align: right;\">\n",
       "      <th></th>\n",
       "      <th>id</th>\n",
       "      <th>genre</th>\n",
       "      <th>track_name</th>\n",
       "      <th>preview_url</th>\n",
       "      <th>location</th>\n",
       "      <th>filename</th>\n",
       "      <th>artist</th>\n",
       "      <th>artist_uri</th>\n",
       "      <th>album</th>\n",
       "      <th>release_date</th>\n",
       "      <th>...</th>\n",
       "      <th>energy</th>\n",
       "      <th>key</th>\n",
       "      <th>loudness</th>\n",
       "      <th>mode</th>\n",
       "      <th>speechiness</th>\n",
       "      <th>acousticness</th>\n",
       "      <th>instrumentalness</th>\n",
       "      <th>liveness</th>\n",
       "      <th>valence</th>\n",
       "      <th>tempo</th>\n",
       "    </tr>\n",
       "  </thead>\n",
       "  <tbody>\n",
       "    <tr>\n",
       "      <th>0</th>\n",
       "      <td>2jea8FLPOPtg2AdGksDkYJ</td>\n",
       "      <td>classical</td>\n",
       "      <td>String Trio in E Major, Op. 34 No. 6, G. 106: ...</td>\n",
       "      <td>https://p.scdn.co/mp3-preview/16837985f7a48bd8...</td>\n",
       "      <td>./scrapes/classical/String Trio in E Major, Op...</td>\n",
       "      <td>String Trio in E Major, Op. 34 No. 6, G. 106: ...</td>\n",
       "      <td>Luigi Boccherini</td>\n",
       "      <td>spotify:artist:2l4vGfFV7e46yO8lxfxR76</td>\n",
       "      <td>Boccherini: String Trios, Op. 34</td>\n",
       "      <td>2017-06-02</td>\n",
       "      <td>...</td>\n",
       "      <td>0.0811</td>\n",
       "      <td>10</td>\n",
       "      <td>-17.408</td>\n",
       "      <td>1</td>\n",
       "      <td>0.0417</td>\n",
       "      <td>0.891000</td>\n",
       "      <td>0.010700</td>\n",
       "      <td>0.0520</td>\n",
       "      <td>0.220</td>\n",
       "      <td>146.213</td>\n",
       "    </tr>\n",
       "    <tr>\n",
       "      <th>1</th>\n",
       "      <td>3EM40T8QWY8x1DtC3xSzEj</td>\n",
       "      <td>classical</td>\n",
       "      <td>Giuseppe Tornatore Suite: Looking for You (Lov...</td>\n",
       "      <td>https://p.scdn.co/mp3-preview/76f68c74ecbb88aa...</td>\n",
       "      <td>./scrapes/classical/Giuseppe Tornatore Suite: ...</td>\n",
       "      <td>Giuseppe Tornatore Suite: Looking for You (Lov...</td>\n",
       "      <td>Yo-Yo Ma</td>\n",
       "      <td>spotify:artist:5Dl3HXZjG6ZOWT5cV375lk</td>\n",
       "      <td>Yo-Yo Ma Plays Ennio Morricone (Remastered)</td>\n",
       "      <td>2004</td>\n",
       "      <td>...</td>\n",
       "      <td>0.2480</td>\n",
       "      <td>10</td>\n",
       "      <td>-13.959</td>\n",
       "      <td>1</td>\n",
       "      <td>0.0398</td>\n",
       "      <td>0.970000</td>\n",
       "      <td>0.902000</td>\n",
       "      <td>0.1220</td>\n",
       "      <td>0.047</td>\n",
       "      <td>74.667</td>\n",
       "    </tr>\n",
       "    <tr>\n",
       "      <th>2</th>\n",
       "      <td>56fyiB01ZVUoD0Exlw4ToV</td>\n",
       "      <td>classical</td>\n",
       "      <td>Fantasy for Piano, Chorus and Orchestra ,Op.80...</td>\n",
       "      <td>https://p.scdn.co/mp3-preview/3679c315932b2994...</td>\n",
       "      <td>./scrapes/classical/Fantasy for Piano, Chorus ...</td>\n",
       "      <td>Fantasy for Piano, Chorus and Orchestra ,Op.80...</td>\n",
       "      <td>Daniel Barenboim</td>\n",
       "      <td>spotify:artist:78sEozQOEJxzXegUuqRSgH</td>\n",
       "      <td>The Very Best of Daniel Barenboim</td>\n",
       "      <td>2012-06-29</td>\n",
       "      <td>...</td>\n",
       "      <td>0.0255</td>\n",
       "      <td>0</td>\n",
       "      <td>-24.587</td>\n",
       "      <td>1</td>\n",
       "      <td>0.0564</td>\n",
       "      <td>0.968000</td>\n",
       "      <td>0.605000</td>\n",
       "      <td>0.3480</td>\n",
       "      <td>0.225</td>\n",
       "      <td>164.024</td>\n",
       "    </tr>\n",
       "    <tr>\n",
       "      <th>3</th>\n",
       "      <td>2Ul1w03IYHv9Bhu3uGcErm</td>\n",
       "      <td>classical</td>\n",
       "      <td>Matthäus Passion, BWV 244: Chori, \"Sein Blut k...</td>\n",
       "      <td>https://p.scdn.co/mp3-preview/25c002af60d76328...</td>\n",
       "      <td>./scrapes/classical/Matthäus Passion, BWV 244:...</td>\n",
       "      <td>Matthäus Passion, BWV 244: Chori, \"Sein Blut k...</td>\n",
       "      <td>Johann Sebastian Bach</td>\n",
       "      <td>spotify:artist:5aIqB5nVVvmFsvSdExz408</td>\n",
       "      <td>Bach: Matthäus Passion, BWV 244</td>\n",
       "      <td>2007-02-20</td>\n",
       "      <td>...</td>\n",
       "      <td>0.3430</td>\n",
       "      <td>10</td>\n",
       "      <td>-15.482</td>\n",
       "      <td>0</td>\n",
       "      <td>0.0326</td>\n",
       "      <td>0.952000</td>\n",
       "      <td>0.610000</td>\n",
       "      <td>0.6730</td>\n",
       "      <td>0.897</td>\n",
       "      <td>119.094</td>\n",
       "    </tr>\n",
       "    <tr>\n",
       "      <th>4</th>\n",
       "      <td>2CiAM2n1W4epHc5ennCXgW</td>\n",
       "      <td>classical</td>\n",
       "      <td>Le quattro stagioni (The Four Seasons), Op. 8 ...</td>\n",
       "      <td>https://p.scdn.co/mp3-preview/b635fe86d97fc4a8...</td>\n",
       "      <td>./scrapes/classical/Le quattro stagioni (The F...</td>\n",
       "      <td>Le quattro stagioni (The Four Seasons), Op. 8 ...</td>\n",
       "      <td>Antonio Vivaldi</td>\n",
       "      <td>spotify:artist:2QOIawHpSlOwXDvSqQ9YJR</td>\n",
       "      <td>Vivaldi: The Four Seasons - Oboe Concerto - Do...</td>\n",
       "      <td>2012-03-20</td>\n",
       "      <td>...</td>\n",
       "      <td>0.1910</td>\n",
       "      <td>4</td>\n",
       "      <td>-13.851</td>\n",
       "      <td>1</td>\n",
       "      <td>0.0390</td>\n",
       "      <td>0.647000</td>\n",
       "      <td>0.068800</td>\n",
       "      <td>0.1730</td>\n",
       "      <td>0.224</td>\n",
       "      <td>87.152</td>\n",
       "    </tr>\n",
       "    <tr>\n",
       "      <th>...</th>\n",
       "      <td>...</td>\n",
       "      <td>...</td>\n",
       "      <td>...</td>\n",
       "      <td>...</td>\n",
       "      <td>...</td>\n",
       "      <td>...</td>\n",
       "      <td>...</td>\n",
       "      <td>...</td>\n",
       "      <td>...</td>\n",
       "      <td>...</td>\n",
       "      <td>...</td>\n",
       "      <td>...</td>\n",
       "      <td>...</td>\n",
       "      <td>...</td>\n",
       "      <td>...</td>\n",
       "      <td>...</td>\n",
       "      <td>...</td>\n",
       "      <td>...</td>\n",
       "      <td>...</td>\n",
       "      <td>...</td>\n",
       "      <td>...</td>\n",
       "    </tr>\n",
       "    <tr>\n",
       "      <th>2495</th>\n",
       "      <td>46VaDtbrBj929FWnUdTQV0</td>\n",
       "      <td>rock</td>\n",
       "      <td>Black Night</td>\n",
       "      <td>https://p.scdn.co/mp3-preview/158e967cdc5dac44...</td>\n",
       "      <td>./scrapes/rock/Black Night.mp3</td>\n",
       "      <td>Black Night.mp3</td>\n",
       "      <td>Deep Purple</td>\n",
       "      <td>spotify:artist:568ZhdwyaiCyOGJRtNYhWf</td>\n",
       "      <td>Deepest Purple: The Very Best of Deep Purple</td>\n",
       "      <td>1980</td>\n",
       "      <td>...</td>\n",
       "      <td>0.8420</td>\n",
       "      <td>9</td>\n",
       "      <td>-10.368</td>\n",
       "      <td>1</td>\n",
       "      <td>0.1130</td>\n",
       "      <td>0.041800</td>\n",
       "      <td>0.056700</td>\n",
       "      <td>0.1180</td>\n",
       "      <td>0.840</td>\n",
       "      <td>134.661</td>\n",
       "    </tr>\n",
       "    <tr>\n",
       "      <th>2496</th>\n",
       "      <td>3YuaBvuZqcwN3CEAyyoaei</td>\n",
       "      <td>rock</td>\n",
       "      <td>Like a Stone</td>\n",
       "      <td>https://p.scdn.co/mp3-preview/9fe309d18308f401...</td>\n",
       "      <td>./scrapes/rock/Like a Stone.mp3</td>\n",
       "      <td>Like a Stone.mp3</td>\n",
       "      <td>Audioslave</td>\n",
       "      <td>spotify:artist:2ziB7fzrXBoh1HUPS6sVFn</td>\n",
       "      <td>Audioslave</td>\n",
       "      <td>2002-11-17</td>\n",
       "      <td>...</td>\n",
       "      <td>0.5680</td>\n",
       "      <td>7</td>\n",
       "      <td>-5.477</td>\n",
       "      <td>0</td>\n",
       "      <td>0.0276</td>\n",
       "      <td>0.007970</td>\n",
       "      <td>0.000000</td>\n",
       "      <td>0.0997</td>\n",
       "      <td>0.516</td>\n",
       "      <td>107.849</td>\n",
       "    </tr>\n",
       "    <tr>\n",
       "      <th>2497</th>\n",
       "      <td>5SrnKN9CdGLLHIOUQMHNod</td>\n",
       "      <td>rock</td>\n",
       "      <td>Vasoline</td>\n",
       "      <td>https://p.scdn.co/mp3-preview/8c273e4dd0b7895d...</td>\n",
       "      <td>./scrapes/rock/Vasoline.mp3</td>\n",
       "      <td>Vasoline.mp3</td>\n",
       "      <td>Stone Temple Pilots</td>\n",
       "      <td>spotify:artist:2UazAtjfzqBF0Nho2awK4z</td>\n",
       "      <td>Thank You</td>\n",
       "      <td>2003-11-10</td>\n",
       "      <td>...</td>\n",
       "      <td>0.9890</td>\n",
       "      <td>10</td>\n",
       "      <td>-4.945</td>\n",
       "      <td>1</td>\n",
       "      <td>0.1110</td>\n",
       "      <td>0.001410</td>\n",
       "      <td>0.000167</td>\n",
       "      <td>0.0911</td>\n",
       "      <td>0.323</td>\n",
       "      <td>168.893</td>\n",
       "    </tr>\n",
       "    <tr>\n",
       "      <th>2498</th>\n",
       "      <td>6PvpKM4BW48ic8cbM4Vxcg</td>\n",
       "      <td>rock</td>\n",
       "      <td>Man in the Box</td>\n",
       "      <td>https://p.scdn.co/mp3-preview/9199bc9332540d76...</td>\n",
       "      <td>./scrapes/rock/Man in the Box.mp3</td>\n",
       "      <td>Man in the Box.mp3</td>\n",
       "      <td>Alice In Chains</td>\n",
       "      <td>spotify:artist:64tNsm6TnZe2zpcMVMOoHL</td>\n",
       "      <td>The Essential Alice In Chains</td>\n",
       "      <td>2006-07-24</td>\n",
       "      <td>...</td>\n",
       "      <td>0.8490</td>\n",
       "      <td>8</td>\n",
       "      <td>-4.604</td>\n",
       "      <td>1</td>\n",
       "      <td>0.0456</td>\n",
       "      <td>0.001360</td>\n",
       "      <td>0.000000</td>\n",
       "      <td>0.0904</td>\n",
       "      <td>0.685</td>\n",
       "      <td>106.395</td>\n",
       "    </tr>\n",
       "    <tr>\n",
       "      <th>2499</th>\n",
       "      <td>2USqBGXjSTVXzVRIx027Au</td>\n",
       "      <td>rock</td>\n",
       "      <td>Lay It Down</td>\n",
       "      <td>https://p.scdn.co/mp3-preview/9dadaacc69cb69f1...</td>\n",
       "      <td>./scrapes/rock/Lay It Down.mp3</td>\n",
       "      <td>Lay It Down.mp3</td>\n",
       "      <td>Ratt</td>\n",
       "      <td>spotify:artist:3tufWJzpCiAGleBt5TkmTn</td>\n",
       "      <td>Rhino Hi-Five: Ratt</td>\n",
       "      <td>2005-11-22</td>\n",
       "      <td>...</td>\n",
       "      <td>0.8600</td>\n",
       "      <td>7</td>\n",
       "      <td>-9.006</td>\n",
       "      <td>1</td>\n",
       "      <td>0.0335</td>\n",
       "      <td>0.000354</td>\n",
       "      <td>0.022600</td>\n",
       "      <td>0.2620</td>\n",
       "      <td>0.342</td>\n",
       "      <td>99.072</td>\n",
       "    </tr>\n",
       "  </tbody>\n",
       "</table>\n",
       "<p>2500 rows × 21 columns</p>\n",
       "</div>"
      ],
      "text/plain": [
       "                          id      genre  \\\n",
       "0     2jea8FLPOPtg2AdGksDkYJ  classical   \n",
       "1     3EM40T8QWY8x1DtC3xSzEj  classical   \n",
       "2     56fyiB01ZVUoD0Exlw4ToV  classical   \n",
       "3     2Ul1w03IYHv9Bhu3uGcErm  classical   \n",
       "4     2CiAM2n1W4epHc5ennCXgW  classical   \n",
       "...                      ...        ...   \n",
       "2495  46VaDtbrBj929FWnUdTQV0       rock   \n",
       "2496  3YuaBvuZqcwN3CEAyyoaei       rock   \n",
       "2497  5SrnKN9CdGLLHIOUQMHNod       rock   \n",
       "2498  6PvpKM4BW48ic8cbM4Vxcg       rock   \n",
       "2499  2USqBGXjSTVXzVRIx027Au       rock   \n",
       "\n",
       "                                             track_name  \\\n",
       "0     String Trio in E Major, Op. 34 No. 6, G. 106: ...   \n",
       "1     Giuseppe Tornatore Suite: Looking for You (Lov...   \n",
       "2     Fantasy for Piano, Chorus and Orchestra ,Op.80...   \n",
       "3     Matthäus Passion, BWV 244: Chori, \"Sein Blut k...   \n",
       "4     Le quattro stagioni (The Four Seasons), Op. 8 ...   \n",
       "...                                                 ...   \n",
       "2495                                        Black Night   \n",
       "2496                                       Like a Stone   \n",
       "2497                                           Vasoline   \n",
       "2498                                     Man in the Box   \n",
       "2499                                        Lay It Down   \n",
       "\n",
       "                                            preview_url  \\\n",
       "0     https://p.scdn.co/mp3-preview/16837985f7a48bd8...   \n",
       "1     https://p.scdn.co/mp3-preview/76f68c74ecbb88aa...   \n",
       "2     https://p.scdn.co/mp3-preview/3679c315932b2994...   \n",
       "3     https://p.scdn.co/mp3-preview/25c002af60d76328...   \n",
       "4     https://p.scdn.co/mp3-preview/b635fe86d97fc4a8...   \n",
       "...                                                 ...   \n",
       "2495  https://p.scdn.co/mp3-preview/158e967cdc5dac44...   \n",
       "2496  https://p.scdn.co/mp3-preview/9fe309d18308f401...   \n",
       "2497  https://p.scdn.co/mp3-preview/8c273e4dd0b7895d...   \n",
       "2498  https://p.scdn.co/mp3-preview/9199bc9332540d76...   \n",
       "2499  https://p.scdn.co/mp3-preview/9dadaacc69cb69f1...   \n",
       "\n",
       "                                               location  \\\n",
       "0     ./scrapes/classical/String Trio in E Major, Op...   \n",
       "1     ./scrapes/classical/Giuseppe Tornatore Suite: ...   \n",
       "2     ./scrapes/classical/Fantasy for Piano, Chorus ...   \n",
       "3     ./scrapes/classical/Matthäus Passion, BWV 244:...   \n",
       "4     ./scrapes/classical/Le quattro stagioni (The F...   \n",
       "...                                                 ...   \n",
       "2495                     ./scrapes/rock/Black Night.mp3   \n",
       "2496                    ./scrapes/rock/Like a Stone.mp3   \n",
       "2497                        ./scrapes/rock/Vasoline.mp3   \n",
       "2498                  ./scrapes/rock/Man in the Box.mp3   \n",
       "2499                     ./scrapes/rock/Lay It Down.mp3   \n",
       "\n",
       "                                               filename  \\\n",
       "0     String Trio in E Major, Op. 34 No. 6, G. 106: ...   \n",
       "1     Giuseppe Tornatore Suite: Looking for You (Lov...   \n",
       "2     Fantasy for Piano, Chorus and Orchestra ,Op.80...   \n",
       "3     Matthäus Passion, BWV 244: Chori, \"Sein Blut k...   \n",
       "4     Le quattro stagioni (The Four Seasons), Op. 8 ...   \n",
       "...                                                 ...   \n",
       "2495                                    Black Night.mp3   \n",
       "2496                                   Like a Stone.mp3   \n",
       "2497                                       Vasoline.mp3   \n",
       "2498                                 Man in the Box.mp3   \n",
       "2499                                    Lay It Down.mp3   \n",
       "\n",
       "                     artist                             artist_uri  \\\n",
       "0          Luigi Boccherini  spotify:artist:2l4vGfFV7e46yO8lxfxR76   \n",
       "1                  Yo-Yo Ma  spotify:artist:5Dl3HXZjG6ZOWT5cV375lk   \n",
       "2          Daniel Barenboim  spotify:artist:78sEozQOEJxzXegUuqRSgH   \n",
       "3     Johann Sebastian Bach  spotify:artist:5aIqB5nVVvmFsvSdExz408   \n",
       "4           Antonio Vivaldi  spotify:artist:2QOIawHpSlOwXDvSqQ9YJR   \n",
       "...                     ...                                    ...   \n",
       "2495            Deep Purple  spotify:artist:568ZhdwyaiCyOGJRtNYhWf   \n",
       "2496             Audioslave  spotify:artist:2ziB7fzrXBoh1HUPS6sVFn   \n",
       "2497    Stone Temple Pilots  spotify:artist:2UazAtjfzqBF0Nho2awK4z   \n",
       "2498        Alice In Chains  spotify:artist:64tNsm6TnZe2zpcMVMOoHL   \n",
       "2499                   Ratt  spotify:artist:3tufWJzpCiAGleBt5TkmTn   \n",
       "\n",
       "                                                  album release_date  ...  \\\n",
       "0                      Boccherini: String Trios, Op. 34   2017-06-02  ...   \n",
       "1           Yo-Yo Ma Plays Ennio Morricone (Remastered)         2004  ...   \n",
       "2                     The Very Best of Daniel Barenboim   2012-06-29  ...   \n",
       "3                       Bach: Matthäus Passion, BWV 244   2007-02-20  ...   \n",
       "4     Vivaldi: The Four Seasons - Oboe Concerto - Do...   2012-03-20  ...   \n",
       "...                                                 ...          ...  ...   \n",
       "2495       Deepest Purple: The Very Best of Deep Purple         1980  ...   \n",
       "2496                                         Audioslave   2002-11-17  ...   \n",
       "2497                                          Thank You   2003-11-10  ...   \n",
       "2498                      The Essential Alice In Chains   2006-07-24  ...   \n",
       "2499                                Rhino Hi-Five: Ratt   2005-11-22  ...   \n",
       "\n",
       "      energy  key  loudness  mode  speechiness  acousticness  \\\n",
       "0     0.0811   10   -17.408     1       0.0417      0.891000   \n",
       "1     0.2480   10   -13.959     1       0.0398      0.970000   \n",
       "2     0.0255    0   -24.587     1       0.0564      0.968000   \n",
       "3     0.3430   10   -15.482     0       0.0326      0.952000   \n",
       "4     0.1910    4   -13.851     1       0.0390      0.647000   \n",
       "...      ...  ...       ...   ...          ...           ...   \n",
       "2495  0.8420    9   -10.368     1       0.1130      0.041800   \n",
       "2496  0.5680    7    -5.477     0       0.0276      0.007970   \n",
       "2497  0.9890   10    -4.945     1       0.1110      0.001410   \n",
       "2498  0.8490    8    -4.604     1       0.0456      0.001360   \n",
       "2499  0.8600    7    -9.006     1       0.0335      0.000354   \n",
       "\n",
       "      instrumentalness  liveness  valence    tempo  \n",
       "0             0.010700    0.0520    0.220  146.213  \n",
       "1             0.902000    0.1220    0.047   74.667  \n",
       "2             0.605000    0.3480    0.225  164.024  \n",
       "3             0.610000    0.6730    0.897  119.094  \n",
       "4             0.068800    0.1730    0.224   87.152  \n",
       "...                ...       ...      ...      ...  \n",
       "2495          0.056700    0.1180    0.840  134.661  \n",
       "2496          0.000000    0.0997    0.516  107.849  \n",
       "2497          0.000167    0.0911    0.323  168.893  \n",
       "2498          0.000000    0.0904    0.685  106.395  \n",
       "2499          0.022600    0.2620    0.342   99.072  \n",
       "\n",
       "[2500 rows x 21 columns]"
      ]
     },
     "execution_count": 126,
     "metadata": {},
     "output_type": "execute_result"
    }
   ],
   "source": [
    "songs"
   ]
  },
  {
   "cell_type": "code",
   "execution_count": null,
   "metadata": {},
   "outputs": [],
   "source": []
  },
  {
   "cell_type": "code",
   "execution_count": 127,
   "metadata": {},
   "outputs": [],
   "source": [
    "X = songs._get_numeric_data().drop(columns=['key', 'mode'])\n",
    "y = songs['genre']"
   ]
  },
  {
   "cell_type": "code",
   "execution_count": 128,
   "metadata": {},
   "outputs": [],
   "source": [
    "def running_models(X, y):\n",
    "    # Our features from Spotify are scaled between 0 and 1 already, so we don't need to transform them\n",
    "    X_train, X_test, y_train, y_test = train_test_split(X, y, stratify=y, random_state=182)\n",
    "    model_df = pd.DataFrame(columns=['train_score', 'test_score'])\n",
    "    \n",
    "    model = SVC(C=10000, kernel='rbf')\n",
    "    model.fit(X_train, y_train)\n",
    "    train_score = model.score(X_train, y_train)\n",
    "    test_score = model.score(X_test, y_test)\n",
    "    \n",
    "    row = {'model': type(model).__name__,\n",
    "           'train_score' : train_score,\n",
    "          'test_score' : test_score}\n",
    "    model_df = model_df.append(row, ignore_index=True)\n",
    "    return model_df\n",
    "    \n",
    "    "
   ]
  },
  {
   "cell_type": "code",
   "execution_count": 129,
   "metadata": {},
   "outputs": [
    {
     "ename": "NameError",
     "evalue": "name 'corr' is not defined",
     "output_type": "error",
     "traceback": [
      "\u001b[1;31m---------------------------------------------------------------------------\u001b[0m",
      "\u001b[1;31mNameError\u001b[0m                                 Traceback (most recent call last)",
      "\u001b[1;32m<ipython-input-129-40f4d1742980>\u001b[0m in \u001b[0;36m<module>\u001b[1;34m\u001b[0m\n\u001b[1;32m----> 1\u001b[1;33m \u001b[0msns\u001b[0m\u001b[1;33m.\u001b[0m\u001b[0mheatmap\u001b[0m\u001b[1;33m(\u001b[0m\u001b[0mcorr\u001b[0m\u001b[1;33m(\u001b[0m\u001b[1;33m)\u001b[0m\u001b[1;33m)\u001b[0m\u001b[1;33m\u001b[0m\u001b[1;33m\u001b[0m\u001b[0m\n\u001b[0m",
      "\u001b[1;31mNameError\u001b[0m: name 'corr' is not defined"
     ]
    }
   ],
   "source": [
    "sns.heatmap(corr())"
   ]
  },
  {
   "cell_type": "code",
   "execution_count": 130,
   "metadata": {},
   "outputs": [
    {
     "data": {
      "image/png": "[encoded data removed]",
      "text/plain": [
       "<Figure size 432x288 with 2 Axes>"
      ]
     },
     "metadata": {
      "needs_background": "light"
     },
     "output_type": "display_data"
    }
   ],
   "source": [
    "sns.heatmap(results.corr(), cmap='coolwarm');"
   ]
  },
  {
   "cell_type": "markdown",
   "metadata": {},
   "source": [
    "There's a high **positive correlation between loudness and energy** and a high **negative correlation between energy and acousticness**"
   ]
  },
  {
   "cell_type": "code",
   "execution_count": 131,
   "metadata": {},
   "outputs": [
    {
     "data": {
      "text/html": [
       "<div>\n",
       "<style scoped>\n",
       "    .dataframe tbody tr th:only-of-type {\n",
       "        vertical-align: middle;\n",
       "    }\n",
       "\n",
       "    .dataframe tbody tr th {\n",
       "        vertical-align: top;\n",
       "    }\n",
       "\n",
       "    .dataframe thead th {\n",
       "        text-align: right;\n",
       "    }\n",
       "</style>\n",
       "<table border=\"1\" class=\"dataframe\">\n",
       "  <thead>\n",
       "    <tr style=\"text-align: right;\">\n",
       "      <th></th>\n",
       "      <th>train_score</th>\n",
       "      <th>test_score</th>\n",
       "      <th>model</th>\n",
       "    </tr>\n",
       "  </thead>\n",
       "  <tbody>\n",
       "    <tr>\n",
       "      <th>0</th>\n",
       "      <td>0.754133</td>\n",
       "      <td>0.7616</td>\n",
       "      <td>SVC</td>\n",
       "    </tr>\n",
       "  </tbody>\n",
       "</table>\n",
       "</div>"
      ],
      "text/plain": [
       "   train_score  test_score model\n",
       "0     0.754133      0.7616   SVC"
      ]
     },
     "execution_count": 131,
     "metadata": {},
     "output_type": "execute_result"
    }
   ],
   "source": [
    "running_models(X, y)"
   ]
  },
  {
   "cell_type": "code",
   "execution_count": 132,
   "metadata": {},
   "outputs": [
    {
     "data": {
      "text/plain": [
       "RandomForestClassifier()"
      ]
     },
     "execution_count": 132,
     "metadata": {},
     "output_type": "execute_result"
    }
   ],
   "source": [
    "RandomForestClassifier()"
   ]
  },
  {
   "cell_type": "code",
   "execution_count": 133,
   "metadata": {},
   "outputs": [],
   "source": [
    "X_train, X_test, y_train, y_test = train_test_split(X, y, stratify=y, random_state=182)"
   ]
  },
  {
   "cell_type": "code",
   "execution_count": 134,
   "metadata": {},
   "outputs": [],
   "source": [
    "sc = StandardScaler()\n",
    "X_train_sc = sc.fit_transform(X_train)\n",
    "X_test_sc = sc.transform(X_test)"
   ]
  },
  {
   "cell_type": "code",
   "execution_count": 135,
   "metadata": {},
   "outputs": [
    {
     "name": "stderr",
     "output_type": "stream",
     "text": [
      "C:\\ProgramData\\Anaconda3\\envs\\dsi\\lib\\site-packages\\sklearn\\utils\\validation.py:70: FutureWarning: Pass C=1 as keyword args. From version 0.25 passing these as positional arguments will result in an error\n",
      "  FutureWarning)\n"
     ]
    }
   ],
   "source": [
    "# .76\n",
    "model = SVC(1, kernel='rbf')"
   ]
  },
  {
   "cell_type": "code",
   "execution_count": 136,
   "metadata": {},
   "outputs": [
    {
     "data": {
      "text/plain": [
       "SVC(C=1)"
      ]
     },
     "execution_count": 136,
     "metadata": {},
     "output_type": "execute_result"
    }
   ],
   "source": [
    "model.fit(X_train_sc, y_train)"
   ]
  },
  {
   "cell_type": "code",
   "execution_count": 137,
   "metadata": {},
   "outputs": [
    {
     "data": {
      "text/plain": [
       "0.7882666666666667"
      ]
     },
     "execution_count": 137,
     "metadata": {},
     "output_type": "execute_result"
    }
   ],
   "source": [
    "model.score(X_train_sc, y_train)"
   ]
  },
  {
   "cell_type": "code",
   "execution_count": 138,
   "metadata": {},
   "outputs": [
    {
     "data": {
      "text/plain": [
       "0.7664"
      ]
     },
     "execution_count": 138,
     "metadata": {},
     "output_type": "execute_result"
    }
   ],
   "source": [
    "model.score(X_test_sc, y_test)"
   ]
  },
  {
   "cell_type": "code",
   "execution_count": 139,
   "metadata": {},
   "outputs": [],
   "source": [
    "y_preds = model.predict(X_test_sc)"
   ]
  },
  {
   "cell_type": "code",
   "execution_count": 140,
   "metadata": {},
   "outputs": [],
   "source": [
    "results = X_test.copy()"
   ]
  },
  {
   "cell_type": "code",
   "execution_count": 141,
   "metadata": {},
   "outputs": [],
   "source": [
    "results.loc[:, 'genre'] = y_test.copy()"
   ]
  },
  {
   "cell_type": "code",
   "execution_count": 142,
   "metadata": {},
   "outputs": [],
   "source": [
    "results.loc[:, 'preds'] = y_preds.copy()"
   ]
  },
  {
   "cell_type": "code",
   "execution_count": 143,
   "metadata": {},
   "outputs": [],
   "source": [
    "results_wrong = results[results['genre'] != results['preds']]"
   ]
  },
  {
   "cell_type": "code",
   "execution_count": 144,
   "metadata": {},
   "outputs": [
    {
     "data": {
      "text/plain": [
       "rap                      0.294521\n",
       "r&b                      0.280822\n",
       "rock                     0.191781\n",
       "progressive bluegrass    0.164384\n",
       "classical                0.068493\n",
       "Name: genre, dtype: float64"
      ]
     },
     "execution_count": 144,
     "metadata": {},
     "output_type": "execute_result"
    }
   ],
   "source": [
    "results_wrong['genre'].value_counts(normalize=True)"
   ]
  },
  {
   "cell_type": "markdown",
   "metadata": {},
   "source": [
    "Rap and R&B seem to be predicted wrong most often based on the features Spotify has pulled from the music."
   ]
  },
  {
   "cell_type": "code",
   "execution_count": 145,
   "metadata": {},
   "outputs": [
    {
     "data": {
      "text/plain": [
       "r&b     0.976744\n",
       "rock    0.023256\n",
       "Name: preds, dtype: float64"
      ]
     },
     "execution_count": 145,
     "metadata": {},
     "output_type": "execute_result"
    }
   ],
   "source": [
    "results_wrong[results_wrong['genre'] == 'rap']['preds'].value_counts(normalize=True)"
   ]
  },
  {
   "cell_type": "markdown",
   "metadata": {},
   "source": [
    "It seems that when Rap is predicted wrong, it's predicted as R&B about 89.1% of the time"
   ]
  },
  {
   "cell_type": "code",
   "execution_count": 146,
   "metadata": {},
   "outputs": [
    {
     "data": {
      "text/plain": [
       "rap                      0.682927\n",
       "progressive bluegrass    0.243902\n",
       "rock                     0.073171\n",
       "Name: preds, dtype: float64"
      ]
     },
     "execution_count": 146,
     "metadata": {},
     "output_type": "execute_result"
    }
   ],
   "source": [
    "results_wrong[results_wrong['genre'] == 'r&b']['preds'].value_counts(normalize=True)"
   ]
  },
  {
   "cell_type": "markdown",
   "metadata": {},
   "source": [
    "R&B is most likely to be predicted as rap, but only 47.3% of the time."
   ]
  },
  {
   "cell_type": "code",
   "execution_count": 147,
   "metadata": {},
   "outputs": [],
   "source": [
    "genre_mean = songs.groupby('genre').mean()"
   ]
  },
  {
   "cell_type": "code",
   "execution_count": 148,
   "metadata": {},
   "outputs": [
    {
     "data": {
      "text/plain": [
       "Text(0.5, 1.0, 'Danceability by Genre')"
      ]
     },
     "execution_count": 148,
     "metadata": {},
     "output_type": "execute_result"
    },
    {
     "data": {
      "image/png": "[encoded data removed]",
      "text/plain": [
       "<Figure size 432x288 with 1 Axes>"
      ]
     },
     "metadata": {
      "needs_background": "light"
     },
     "output_type": "display_data"
    }
   ],
   "source": [
    "genre_mean['danceability'].plot(kind='bar');\n",
    "plt.title('Danceability by Genre')"
   ]
  },
  {
   "cell_type": "markdown",
   "metadata": {},
   "source": [
    "It looks like Rap has the highest danceability at over 0.7, Classical has the lowest danceability at just above 0.3."
   ]
  },
  {
   "cell_type": "code",
   "execution_count": 149,
   "metadata": {},
   "outputs": [
    {
     "data": {
      "image/png": "[encoded data removed]",
      "text/plain": [
       "<Figure size 432x288 with 1 Axes>"
      ]
     },
     "metadata": {
      "needs_background": "light"
     },
     "output_type": "display_data"
    }
   ],
   "source": [
    "genre_mean['instrumentalness'].plot(kind='bar');"
   ]
  },
  {
   "cell_type": "markdown",
   "metadata": {},
   "source": [
    "Classical has the highest instrumentalness, while rap has the lowest"
   ]
  },
  {
   "cell_type": "code",
   "execution_count": 150,
   "metadata": {},
   "outputs": [
    {
     "data": {
      "image/png": "[encoded data removed]",
      "text/plain": [
       "<Figure size 432x288 with 1 Axes>"
      ]
     },
     "metadata": {
      "needs_background": "light"
     },
     "output_type": "display_data"
    }
   ],
   "source": [
    "genre_mean['tempo'].plot(kind='bar');"
   ]
  },
  {
   "cell_type": "markdown",
   "metadata": {},
   "source": [
    "Interesting that most of the genres hover slightly above 120 as a tempo. There's some interesting reasoning behind this with commercial music and the need for 30-seconds of music to fill an advertising slot. 128 beats per minute would allow for a 16-bar phrase in 4/4 time."
   ]
  },
  {
   "cell_type": "code",
   "execution_count": 151,
   "metadata": {},
   "outputs": [],
   "source": [
    "X = songs._get_numeric_data().drop(columns=['key', 'mode'])\n",
    "# Thanks joris on SO: https://stackoverflow.com/questions/32011359/convert-categorical-data-in-pandas-dataframe/32011969\n",
    "y_cat = songs['genre'].astype('category').cat.codes"
   ]
  },
  {
   "cell_type": "code",
   "execution_count": 152,
   "metadata": {},
   "outputs": [],
   "source": [
    "y = to_categorical(y_cat)"
   ]
  },
  {
   "cell_type": "code",
   "execution_count": 153,
   "metadata": {},
   "outputs": [],
   "source": [
    "X_train, X_test, y_train, y_test = train_test_split(X, y, stratify=y, random_state=182)"
   ]
  },
  {
   "cell_type": "code",
   "execution_count": 154,
   "metadata": {},
   "outputs": [],
   "source": [
    "sc = StandardScaler()\n",
    "X_train_sc = sc.fit_transform(X_train)\n",
    "X_test_sc = sc.transform(X_test)"
   ]
  },
  {
   "cell_type": "code",
   "execution_count": 155,
   "metadata": {},
   "outputs": [],
   "source": [
    "fnn_model = Sequential()\n",
    "\n",
    "fnn_model.add(Dense(9, activation='relu', input_shape=(X_train_sc.shape[1],)))\n",
    "fnn_model.add(Dense(32, activation='relu'))\n",
    "fnn_model.add(Dropout(0.2))\n",
    "fnn_model.add(Dense(16, activation='relu'))\n",
    "fnn_model.add(Dense(5, activation='softmax'))\n",
    "\n",
    "fnn_model.compile(optimizer='adam', loss='categorical_crossentropy', metrics=['acc'])\n",
    "\n",
    "hist = fnn_model.fit(X_train_sc, y_train,\n",
    "                epochs=500,\n",
    "                batch_size=128,\n",
    "                validation_data=(X_test_sc, y_test),\n",
    "                    use_multiprocessing=True,\n",
    "                    verbose=0)"
   ]
  },
  {
   "cell_type": "code",
   "execution_count": 156,
   "metadata": {},
   "outputs": [
    {
     "data": {
      "image/png": "[encoded data removed]",
      "text/plain": [
       "<Figure size 432x288 with 1 Axes>"
      ]
     },
     "metadata": {
      "needs_background": "light"
     },
     "output_type": "display_data"
    }
   ],
   "source": [
    "plt.plot(hist.history['acc'], label=\"Training Acc\")\n",
    "plt.plot(hist.history['val_acc'], label=\"Testing Acc\")\n",
    "plt.legend();"
   ]
  },
  {
   "cell_type": "markdown",
   "metadata": {},
   "source": [
    "I don't seem to be able to get higher than **77% accuracy** with the features Spotify provides, even with a Feedforward Neural Network"
   ]
  },
  {
   "cell_type": "markdown",
   "metadata": {},
   "source": [
    "## What's next?"
   ]
  },
  {
   "cell_type": "markdown",
   "metadata": {},
   "source": [
    "Now that I've seen how accurate models can be with the features that Spotify provides, I want to create/extract my own features from the audio I've pulled from Spotify."
   ]
  }
 ],
 "metadata": {
  "kernelspec": {
   "display_name": "Python 3",
   "language": "python",
   "name": "python3"
  },
  "language_info": {
   "codemirror_mode": {
    "name": "ipython",
    "version": 3
   },
   "file_extension": ".py",
   "mimetype": "text/x-python",
   "name": "python",
   "nbconvert_exporter": "python",
   "pygments_lexer": "ipython3",
   "version": "3.7.9"
  }
 },
 "nbformat": 4,
 "nbformat_minor": 4
}
