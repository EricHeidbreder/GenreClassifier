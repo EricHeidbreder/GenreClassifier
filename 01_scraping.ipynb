{
 "cells": [
  {
   "cell_type": "markdown",
   "metadata": {},
   "source": [
    "## **Genre Classification**\n",
    "\n",
    "I've chosen to build a genre classifier for my final project! This project has the most readily available data (scraping Spotify using the `spotipy` library) and should be doable within my timeline\n",
    "\n",
    "## **Problem Statement**\n",
    "\n",
    "Using features derived from an audio source itself, can a classification model predict the genre of a 30-second audio clip with high enough accuracy to organize new songs into their respective genres?\n",
    "\n",
    "Classifying genre is important for music distribution and streaming platforms, it also helps listeners find new bands they might like, and it, in turn, helps musicians connect with new audiences.\n",
    "\n",
    "My goal is to be able to predict genre using **features derived from the audio signal** to classify genre. This could be helpful for building playlists algorithmically without needing humans to manually input data, and can help artists assign their music to all the genres that their music fits the description of.\n",
    "\n",
    "**The metric for success here is accuracy**--any incorrect response is a bad one.\n",
    "\n",
    "## **Methods and models**\n",
    "\n",
    "### Data Collection\n",
    "\n",
    "Scraping 30-second song samples using `spotipy` - I will start with 5 general genres and dig down into the subgenres of each:\n",
    "\n",
    "* Original 5 Genres:\n",
    "  * Classical\n",
    "  * Progressive Bluegrass\n",
    "  * Rock\n",
    "  * Rap\n",
    "  * R & B\n",
    " \n",
    "* Extra 5 Genres:\n",
    " * Tropical House\n",
    " * Pop\n",
    " * Baroque\n",
    " * Serialism\n",
    " * Hip Hop\n",
    " \n",
    "Note that after my first round of modeling, I was getting about 84% accuracy with the original 5 genres. With classical, **I was getting 95% accuracy.** I included Baroque, Serialism, and Ambient in the additional set of 5 genres to test the suspicion that Classical was easier to predict **because it was quieter** than the other 4 original genres. Baroque and Serialism are subsets of classical music. The **Baroque period is from approximatlely the 1600s-1800s** (there's debate about the blurry start and end, but it's not particularly important here). **Serialism is a subset of classical music emerging in the 20th century**. If my model can continue to predict between classical, baroque, and serialism well given these closely-related genres, I'd be very impressed!\n",
    "\n",
    "Similarly, I included Tropical House and Folk to try to add genres closely related to the Rap and Progressive Bluegrass genres, respectively. Unfortunately, Folk didn't have enough unique songs to meet my threshold of at least 500 unique songs before sampling.\n",
    "\n",
    "### Methods for cleaning and preprocessing data\n",
    "\n",
    "Using existing techniques gleaned from the [Music information retrieval](https://musicinformationretrieval.com/index.html) community, I'll **normalize** 30-second song samples to an equal volume, then use various methods for extracting features from the music itself. I still have more research to do to solidify exactly what methods I'll be using, but some include:\n",
    "* `Energy and Root Mean Squared Energy (RMSE)` - energy and RMSE are different measurements of loudness, can be measured in windows across a 30-sec range\n",
    "* `Fast Fourier Transform (fft)` - converting a time-window of an audio source into a snapshot of the frequency spectrum\n",
    "* `Mel Frequency Cepstral Coefficients (mfcc)` - Creates overlapping bins along the log frequency spectrum and stores the power of each of those bins across windows of time.\n",
    "\n",
    "### Models\n",
    "\n",
    "**Support Vector Machines** and **Convolutional Neural Networks** seem to get good results when dealing with audio classification problems. Audio signal can be converted into images using the above preprocessing steps.[1]"
   ]
  },
  {
   "cell_type": "markdown",
   "metadata": {},
   "source": [
    "## **Importing data**\n",
    "\n",
    "Using the Spotipy api, I'm going to pull song data from many different spotify playlists across the platform and store them in a dataframe for future use. Spotify also shares its own pre-packaged and human-interpretable audio features derived from the source audio, including things like `loudness`, `danceability`, and `acousticness` [among many others](https://developer.spotify.com/documentation/web-api/reference/tracks/get-several-audio-features/). The way these features are calculated is likely similar to the process I will use, so I'm going to use these features to establish a baseline model."
   ]
  },
  {
   "cell_type": "code",
   "execution_count": 15,
   "metadata": {},
   "outputs": [
    {
     "name": "stderr",
     "output_type": "stream",
     "text": [
      "C:\\ProgramData\\Anaconda3\\envs\\dsi\\lib\\site-packages\\tqdm\\std.py:670: FutureWarning: The Panel class is removed from pandas. Accessing it from the top-level namespace will also be removed in the next version\n",
      "  from pandas import Panel\n"
     ]
    }
   ],
   "source": [
    "import os\n",
    "import spotipy\n",
    "from auth import generate_token\n",
    "import numpy as np\n",
    "from funcs import *\n",
    "import pandas as pd\n",
    "from tqdm import tqdm\n",
    "import regex\n",
    "from string import punctuation\n",
    "import time"
   ]
  },
  {
   "cell_type": "code",
   "execution_count": 16,
   "metadata": {},
   "outputs": [],
   "source": [
    "# metal_playlists = [\n",
    "#                    ('spotify:user:22dpf7epvioqx3sieesnk7uvq' , 'spotify:playlist:2zDq0w1An95BO6MdOPg7sR'),\n",
    "#                    ('spotify:user:nateher0' , 'spotify:playlist:12dwJPPLTUBABbABa01Qsc'),\n",
    "#                    ('spotify:user:spotify' , 'spotify:playlist:37i9dQZF1DWTcqUzwhNmKv'),\n",
    "#                    ('spotify:user:spotify' , 'spotify:playlist:37i9dQZF1DX5J7FIl4q56G'),\n",
    "#                    ('spotify:user:celsum76' , 'spotify:playlist:27gN69ebwiJRtXEboL12Ih'),\n",
    "#                    ('spotify:user:spotify' , 'spotify:playlist:37i9dQZF1DWXNFSTtym834'),\n",
    "#                    ('spotify:user:i0ejynyffy65v7f568eh8y3k6' , 'spotify:playlist:3SqMCb7nx6wSlFkXBE6wD8'),\n",
    "#                    ('spotify:user:evanstuder', 'spotify:playlist:6JpQsEf9FrpDAmhKNWIV3B')\n",
    "# ]"
   ]
  },
  {
   "cell_type": "code",
   "execution_count": 17,
   "metadata": {},
   "outputs": [],
   "source": [
    "# rock_playlists = {\n",
    "#     ('spotify:user:spotify' , 'spotify:playlist:37i9dQZF1DWXRqgorJj26U'),\n",
    "#                  ('spotify:user:sonymusicfinland' , 'spotify:playlist:5BygwTQ3OrbiwVsQhXFHMz'),\n",
    "#                  ('spotify:user:spotify' , 'spotify:playlist:37i9dQZF1DX7Ku6cgJPhh5'),\n",
    "#                  ('spotify:user:spotify' , 'spotify:playlist:37i9dQZF1DWWwzidNQX6jx'),\n",
    "#                 ('spotify:user:spotify' , 'spotify:playlist:37i9dQZF1DWWzBc3TOlaAV'),\n",
    "#                 ('spotify:user:luccyyy' , 'spotify:playlist:5e1bpazQUEHijFhcJobkAp'),\n",
    "#                 ('spotify:user:12165290026' , 'spotify:playlist:5RkXZzyPCKrovrl1XF92vo')\n",
    "# }"
   ]
  },
  {
   "cell_type": "code",
   "execution_count": 18,
   "metadata": {},
   "outputs": [],
   "source": [
    "# classical_playlists = {'spotify:user:steelo__407' , 'spotify:playlist:5tXCRZAUKp2uqtmJZNkQxY',\n",
    "#                      'spotify:user:topsify' , 'spotify:playlist:62n7TtrAWY1BeNg54yigFe',\n",
    "#                      'spotify:user:smittysez' , 'spotify:playlist:2BqPf9szRgMit0n0vRJdZ3',\n",
    "#                      'spotify:user:spotify' , 'spotify:playlist:37i9dQZF1DXcN1fAVSf7CR',\n",
    "#                      'spotify:user:1258025883' , 'spotify:playlist:7qvZykTVPjvEX2LCcXoHog'}"
   ]
  },
  {
   "cell_type": "code",
   "execution_count": 19,
   "metadata": {},
   "outputs": [],
   "source": [
    "# rap_playlists = [\n",
    "#                 ('spotify:user:spotify' , 'spotify:playlist:37i9dQZF1DX0XUsuxWHRQd'),\n",
    "#                 ('spotify:user:katerinavanderen' , 'spotify:playlist:4gdyJJFph3i2oMdpRnCONw'),\n",
    "#                 ('spotify:user:42wu5pff089byrz1gagsgddbk' , 'spotify:playlist:6kqwmyEVgvABMR6mbjIVX2'),\n",
    "#                 ('spotify:user:q4cz8cjd8gckx1u52rf3r11lf' , 'spotify:playlist:2cnUVlszyv9NoeFfmQglOb'),\n",
    "#                 ('spotify:user:spotify' , 'spotify:playlist:37i9dQZF1DX6PKX5dyBKeq')\n",
    "#                 ]"
   ]
  },
  {
   "cell_type": "code",
   "execution_count": 20,
   "metadata": {},
   "outputs": [],
   "source": [
    "bluegrass_playlists = [\n",
    "#                      ('spotify:user:spotify' , 'spotify:playlist:37i9dQZF1DX0RwLEp3x6W4'),\n",
    "#                      ('spotify:user:122904536' , 'spotify:playlist:0xsQEqfdhaKWedD265YSkS'),\n",
    "#                      ('spotify:user:121507465' , 'spotify:playlist:52IXyhbeQJuIEGAGCiyIfK'),\n",
    "#                      ('spotify:user:joel.chamberlain3,' : 'spotify:playlist:4e1W79GoylSVIROhGPdZES'),\n",
    "#                      ('spotify:user:6y24urmtnizh9q2osg5j7d73u' , 'spotify:playlist:3HCYaqvPSC1NYldqNd0E79'),\n",
    "#                       ('spotify:user:1262499258' , 'spotify:playlist:7fAm3STfjNSuUpvDxzb9eJ'),\n",
    "#                       ('spotify:user:carter.santos' , 'spotify:playlist:5xNCTxGS5uC7qPpN4rmijp'),\n",
    "#                       ('spotify:user:w1d20uonp4mkidfxrxe6gip1y' , 'spotify:playlist:41306y74XVJ0KD4g9sNCwZ'),\n",
    "#                       ('spotify:user:sambo235' , 'spotify:playlist:3CGIlYRnPERhzhJ8LiA5iL'),\n",
    "#                       ('spotify:user:tyduscaladbolg' , 'spotify:playlist:6ELFR9iVl3Bj3baHg6Fvh3'),\n",
    "#                       ('spotify:user:121210099' , 'spotify:playlist:12R3pyyYc13V0xgmy3o6jb'),\n",
    "#                      ('spotify:user:oldmtnman', 'spotify:playlist:2iZ1Yi5SZTWanQvsM14kHp'),\n",
    "#                      ('spotify:user:dorian.liao' , 'spotify:playlist:4p8MzdlPzePZ7G7VVLo40T')\n",
    "]"
   ]
  },
  {
   "cell_type": "code",
   "execution_count": 21,
   "metadata": {},
   "outputs": [],
   "source": [
    "rnb_playlists = [\n",
    "#     ('spotify:user:spotify', 'spotify:playlist:37i9dQZF1DWYmmr74INQlb')\n",
    "#                ('spotify:user:paulapooh' : 'spotify:playlist:56MTyW6qYrCrVLidmREddO'),\n",
    "#                ('spotify:user:h4cv0w4529u3y9ylmpq4nc65c' , 'spotify:playlist:72NjyM9mYLTnbNGCMw3tL5'),\n",
    "#                ('spotify:user:42wu5pff089byrz1gagsgddbk' , 'spotify:playlist:2E8Wt4GejkH47w3curReBP'),\n",
    "#                ('spotify:user:uin5isqodxt8b078auhck708k' , 'spotify:playlist:4fvRHwyk2SW9bfxYMupBE7'),\n",
    "#                ('spotify:user:2us2lww0gyq6nl2bfzxdzl2i4' , 'spotify:playlist:1kMyrcNKPws587cSAOjyDP'),\n",
    "#                ('spotify:user:spotify' , 'spotify:playlist:37i9dQZF1DX4CB6zI8FWXS'),\n",
    "#     ('spotify:user:spotify' , 'spotify:playlist:37i9dQZF1DWWzBc3TOlaAV'),\n",
    "#     ('spotify:user:spotify', 'spotify:playlist:37i9dQZF1DX0QKpU3cGsyb'),\n",
    "#     ('spotify:user:n0q0uqysqdf0jeljsx8qnn0r9' , 'spotify:playlist:4WdOOas9UoL3XjHEs57BTX'),\n",
    "#       ('spotify:user:princessqueroda' , 'spotify:playlist:5s9HaeFd5O2coKQ5YppY1d'),\n",
    "#       ('spotify:user:karolrodis' , 'spotify:playlist:7rIUjHHI7hlbpXG7VSqfg5'),\n",
    "#     ('spotify:user:fkn.jairo' , 'spotify:playlist:4BnpLG8fcq10UO4M179uLF'),\n",
    "#     ('spotify:user:jr8cdrlna5kjb6s7v36gna8sx' , 'spotify:playlist:1fb2kUcysJ6BvfFYbUPJ3h'),\n",
    "#     ('spotify:user:uin5isqodxt8b078auhck708k' , 'spotify:playlist:4fvRHwyk2SW9bfxYMupBE7'),\n",
    "#     ('spotify:user:alaskiantemple100' , 'spotify:playlist:1cqX4l5c5qiRbaYoyk0hOJ'),\n",
    "#     ('spotify:user:spotify' ,'spotify:playlist:37i9dQZF1DWXnexX7CktaI'),\n",
    "#     ('spotify:user:spotify' ,'spotify:playlist:37i9dQZF1DWVEvzGeX3eRs'),\n",
    "#     ('spotify:user:spotify' ,'spotify:playlist:37i9dQZF1DX2UgsUIg75Vg'),\n",
    "#     ('spotify:user:spotify' ,'spotify:playlist:37i9dQZF1DXaXDsfv6nvZ5'),\n",
    "#     ('spotify:user:spotify' ,'spotify:playlist:37i9dQZF1DX9zR5aXbFFRA'),\n",
    "    ('spotify:user:spotify', 'spotify:playlist:37i9dQZF1DWZKEBMCmjsXt'),\n",
    "    ('spotify:user:spotify', 'spotify:playlist:37i9dQZF1DWUbo613Z2iWO'),\n",
    "    ('spotify:user:biu2dkmr1v2ojx2z2fwtr24ll', 'spotify:playlist:6y37llELgriD8YWdBlqA0m'),\n",
    "    ('spotify:user:m2ytuqr5lwp6n0s4hdd47bty1', 'spotify:playlist:1xOXYTNpTiknAl9Rq5Y2aO')\n",
    "    \n",
    "]"
   ]
  },
  {
   "cell_type": "code",
   "execution_count": 22,
   "metadata": {},
   "outputs": [],
   "source": [
    "baroque_playlists = [\n",
    "    ('spotify:user:sonyclassicalandjazzsweden', 'spotify:playlist:4DvteColbVCrs7iIgc4r6x'),\n",
    "    ('spotify:user:vsqhzd4nqeprs9vtl7pvtsa58', 'spotify:playlist:2MsgVhkocgCM5L5a6yS70n'),\n",
    "    ('spotify:user:halidon', 'spotify:playlist:2xwP2mUA0QRT5TwMEkBvtH'),\n",
    "    ('spotify:user:redzeno52', 'spotify:playlist:7slyBmxiW9t0Fl9rm2E00c')    \n",
    "]"
   ]
  },
  {
   "cell_type": "code",
   "execution_count": 34,
   "metadata": {},
   "outputs": [],
   "source": [
    "house_playlists = [\n",
    "#     ('spotify:user:topsify', 'spotify:playlist:2otQLmbi8QWHjDfq3eL0DC'),\n",
    "#     ('spotify:user:selectedbase', 'spotify:playlist:6vDGVr652ztNWKZuHvsFvx'),\n",
    "#     ('spotify:user:spotify', 'spotify:playlist:37i9dQZF1DX2TRYkJECvfC'),\n",
    "#     ('spotify:user:chillyourmind', 'spotify:playlist:7wDZ5nB0Wb1tcoloILplN8'),\n",
    "#     ('spotify:user:11887295', 'spotify:playlist:210GNuboojT87jL85tgMzT'),\n",
    "#     ('spotify:user:86i98g8zh2722dm6sllzia2ue', 'spotify:playlist:6XYYZvwTr4Fl5MdDCfH64g'),\n",
    "#     ('spotify:user:spotify', 'spotify:playlist:37i9dQZF1DXbXD9pMSZomS'),\n",
    "#     ('spotify:user:futureofhouse', 'spotify:playlist:7DyH8C8HXh5RzYKKEy2BQI'),\n",
    "#     ('spotify:user:sonymusicentertainment', 'spotify:playlist:3oRNodhtGLVnZl0Q32FJHB'),\n",
    "#     ('spotify:user:1119307854', 'spotify:playlist:4k9yqrIc5UyUOSYWFrAkur'),\n",
    "    ('spotify:user:spotify', 'spotify:playlist:37i9dQZF1DX0AMssoUKCz7'),\n",
    "    ('spotify:user:12158374076', 'spotify:playlist:1FUdwVcOAkqzWYeHecDhSE'),\n",
    "    ('spotify:user:bohlinmarcus', 'spotify:playlist:707bUrcQ1qPN0yCVTb4m1J'),\n",
    "]"
   ]
  },
  {
   "cell_type": "code",
   "execution_count": 24,
   "metadata": {},
   "outputs": [],
   "source": [
    "folk_playlists = [\n",
    "    ('spotify:user:spotify', 'spotify:playlist:37i9dQZF1DX6z20IXmBjWI'),\n",
    "    ('spotify:user:spotify', 'spotify:playlist:37i9dQZF1DWVmps5U8gHNv'),\n",
    "    ('spotify:user:spotify', 'spotify:playlist:37i9dQZF1DX2taNm7KfjOX'),\n",
    "    ('spotify:user:spotify', 'spotify:playlist:37i9dQZF1DXaiAJKcabR16'),\n",
    "    ('spotify:user:spotify', 'spotify:playlist:37i9dQZF1DWSIcimvN18p3'),\n",
    "    ('spotify:user:spotify', 'spotify:playlist:37i9dQZF1DWWv6MSZULLBi'),\n",
    "    ('spotify:user:spotify', 'spotify:playlist:37i9dQZF1DWTyjRnMgESue')  \n",
    "]"
   ]
  },
  {
   "cell_type": "code",
   "execution_count": 25,
   "metadata": {},
   "outputs": [],
   "source": [
    "ambient_playlists = [\n",
    "    ('spotify:user:p64dq7tnb8e2yzc45hke20les', 'spotify:playlist:1kqBP6eE24L0agNpnTIKtc'),\n",
    "    ('spotify:user:spotify', 'spotify:playlist:37i9dQZF1DX3Ogo9pFvBkY'),\n",
    "    ('spotify:user:nikolaid82', 'spotify:playlist:5NbleROaHyKOZDwJEPm7f5'),\n",
    "    ('spotify:user:cotter', 'spotify:playlist:0I41QKgHkF8TPUSiUtnL6n'),\n",
    "    ('spotify:user:spotify', 'spotify:playlist:37i9dQZF1DX0x36cwEyOTG')    \n",
    "]"
   ]
  },
  {
   "cell_type": "code",
   "execution_count": 26,
   "metadata": {},
   "outputs": [],
   "source": [
    "serialism_playlists = [\n",
    "    ('spotify:user:mwt_sqr', 'spotify:playlist:7yFENYAoc1xyUsHKDpD1IS'),\n",
    "    ('spotify:user:112953089', 'spotify:playlist:5ATv6ZUXYByS57mMXD70h7'),\n",
    "    ('spotify:user:thesoundsofspotify', 'spotify:playlist:6L5r0Dapop0UDxN5ple8pT'),\n",
    "    ('spotify:user:mbd16mhwfe5ukzk2gbbbq8e4w', 'spotify:playlist:7mghhD4B90EtSE4Y2vtnZG'),\n",
    "    ('spotify:user:musicdepartment', 'spotify:playlist:1bITJl6earxOQEwYzMziek')    \n",
    "]"
   ]
  },
  {
   "cell_type": "code",
   "execution_count": 35,
   "metadata": {},
   "outputs": [],
   "source": [
    "playlists = [\n",
    "#     metal_playlists,\n",
    "#     rock_playlists, \n",
    "#     classical_playlists, \n",
    "#     rap_playlists, \n",
    "#     bluegrass_playlists, \n",
    "#     rnb_playlists,\n",
    "#     baroque_playlists,\n",
    "    house_playlists,\n",
    "#     folk_playlists,\n",
    "#     ambient_playlists,\n",
    "#     serialism_playlists\n",
    "]"
   ]
  },
  {
   "cell_type": "code",
   "execution_count": 28,
   "metadata": {},
   "outputs": [],
   "source": [
    "# token = generate_token()\n",
    "# spotify = spotipy.Spotify(auth=token) # Authorization token\n",
    "# results = spotify.user_playlist(user='spotify:user:spotify', \n",
    "#                                 playlist_id='spotify:playlist:37i9dQZF1DX0QKpU3cGsyb')"
   ]
  },
  {
   "cell_type": "code",
   "execution_count": 29,
   "metadata": {},
   "outputs": [],
   "source": [
    "# results = results['tracks']\n",
    "# tracks = results['items']\n",
    "# tracks[0]['track']['id']"
   ]
  },
  {
   "cell_type": "code",
   "execution_count": 36,
   "metadata": {},
   "outputs": [
    {
     "name": "stderr",
     "output_type": "stream",
     "text": [
      "100%|██████████| 100/100 [00:15<00:00,  6.36it/s]\n",
      "100%|██████████| 100/100 [00:29<00:00,  3.36it/s]\n",
      "100%|██████████| 92/92 [00:37<00:00,  2.48it/s]\n",
      "100%|██████████| 100/100 [00:22<00:00,  4.50it/s]\n",
      "100%|██████████| 100/100 [00:28<00:00,  3.46it/s]\n",
      "100%|██████████| 100/100 [00:29<00:00,  3.40it/s]\n",
      "100%|██████████| 100/100 [00:29<00:00,  3.38it/s]\n",
      "100%|██████████| 100/100 [00:29<00:00,  3.38it/s]\n",
      "100%|██████████| 100/100 [00:30<00:00,  3.29it/s]\n",
      "100%|██████████| 100/100 [00:29<00:00,  3.35it/s]\n",
      "100%|██████████| 100/100 [00:29<00:00,  3.36it/s]\n",
      "100%|██████████| 100/100 [00:29<00:00,  3.38it/s]\n",
      "100%|██████████| 92/92 [00:22<00:00,  4.17it/s]\n"
     ]
    }
   ],
   "source": [
    "for playlist in playlists:\n",
    "    for user, playlist_id in playlist:\n",
    "        playlist_to_genres(user, playlist_id)"
   ]
  }
 ],
 "metadata": {
  "kernelspec": {
   "display_name": "Python 3",
   "language": "python",
   "name": "python3"
  },
  "language_info": {
   "codemirror_mode": {
    "name": "ipython",
    "version": 3
   },
   "file_extension": ".py",
   "mimetype": "text/x-python",
   "name": "python",
   "nbconvert_exporter": "python",
   "pygments_lexer": "ipython3",
   "version": "3.7.9"
  }
 },
 "nbformat": 4,
 "nbformat_minor": 4
}
