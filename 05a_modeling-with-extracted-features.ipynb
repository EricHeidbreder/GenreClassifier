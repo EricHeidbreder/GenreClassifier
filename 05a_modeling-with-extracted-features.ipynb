{
 "cells": [
  {
   "cell_type": "code",
   "execution_count": 4,
   "metadata": {},
   "outputs": [],
   "source": [
    "import pandas as pd\n",
    "import numpy as np\n",
    "import matplotlib.pyplot as plt\n",
    "import seaborn as sns\n",
    "from sklearn.model_selection import train_test_split, cross_val_score, GridSearchCV\n",
    "from sklearn.svm import SVC\n",
    "from sklearn.ensemble import AdaBoostClassifier, BaggingClassifier, VotingClassifier, RandomForestClassifier\n",
    "from sklearn.pipeline import Pipeline\n",
    "from sklearn.tree import ExtraTreeClassifier, DecisionTreeClassifier\n",
    "from sklearn.preprocessing import StandardScaler, OneHotEncoder, PolynomialFeatures\n",
    "from sklearn.metrics import confusion_matrix, plot_confusion_matrix\n",
    "from tensorflow.keras.models import Sequential\n",
    "from tensorflow.keras.layers import Dense, Dropout\n",
    "from tensorflow.keras.utils import to_categorical\n",
    "from ast import literal_eval\n",
    "from tqdm import tqdm"
   ]
  },
  {
   "cell_type": "code",
   "execution_count": 5,
   "metadata": {},
   "outputs": [
    {
     "name": "stderr",
     "output_type": "stream",
     "text": [
      "C:\\ProgramData\\Anaconda3\\envs\\dsi\\lib\\site-packages\\tqdm\\std.py:670: FutureWarning: The Panel class is removed from pandas. Accessing it from the top-level namespace will also be removed in the next version\n",
      "  from pandas import Panel\n"
     ]
    }
   ],
   "source": [
    "tqdm.pandas()"
   ]
  },
  {
   "cell_type": "code",
   "execution_count": 6,
   "metadata": {},
   "outputs": [],
   "source": [
    "songs = pd.read_csv('./data/five_g_500_modeling.csv')"
   ]
  },
  {
   "cell_type": "code",
   "execution_count": 7,
   "metadata": {},
   "outputs": [],
   "source": [
    "features = songs.columns[22:].drop([])"
   ]
  },
  {
   "cell_type": "code",
   "execution_count": 8,
   "metadata": {},
   "outputs": [],
   "source": [
    "X = songs[features]\n",
    "y = songs['genre']"
   ]
  },
  {
   "cell_type": "code",
   "execution_count": 9,
   "metadata": {},
   "outputs": [],
   "source": [
    "def running_models(X, y, scaled=False, c=10):\n",
    "    X_train, X_test, y_train, y_test = train_test_split(X, y, stratify=y, random_state=182)\n",
    "    \n",
    "    # MODELING WITH SCALED FEATURES #\n",
    "    \n",
    "    # Scale the features\n",
    "    sc = StandardScaler()\n",
    "    X_train_sc = sc.fit_transform(X_train)\n",
    "    X_test_sc = sc.transform(X_test)\n",
    "    \n",
    "    # Creating a df to display results\n",
    "    model_df = pd.DataFrame(columns=['train_score', 'test_score'])\n",
    "    \n",
    "    model_sc = SVC(C=c, kernel='rbf', degree=3)\n",
    "    model_sc.fit(X_train_sc, y_train)\n",
    "    train_score = model_sc.score(X_train_sc, y_train)\n",
    "    test_score = model_sc.score(X_test_sc, y_test)\n",
    "    \n",
    "    row = {'model': type(model_sc).__name__,\n",
    "           'train_score' : train_score,\n",
    "          'test_score' : test_score,\n",
    "           'C': c,\n",
    "          'scaled': True}\n",
    "    model_df = model_df.append(row, ignore_index=True)\n",
    "    \n",
    "    # MODELING WITH UNSCALED FEATURES #\n",
    "    \n",
    "    model = SVC(C=c, kernel='rbf', degree=3)\n",
    "    model.fit(X_train, y_train)\n",
    "    train_score = model.score(X_train, y_train)\n",
    "    test_score = model.score(X_test, y_test)\n",
    "    \n",
    "    row = {'model': type(model).__name__,\n",
    "       'train_score' : train_score,\n",
    "      'test_score' : test_score,\n",
    "       'C': c,\n",
    "      'scaled': False}\n",
    "    model_df = model_df.append(row, ignore_index=True)\n",
    "    return model_df"
   ]
  },
  {
   "cell_type": "markdown",
   "metadata": {},
   "source": [
    "There's a high **positive correlation between loudness and energy** and a high **negative correlation between energy and acousticness**"
   ]
  },
  {
   "cell_type": "code",
   "execution_count": 10,
   "metadata": {},
   "outputs": [
    {
     "data": {
      "text/html": [
       "<div>\n",
       "<style scoped>\n",
       "    .dataframe tbody tr th:only-of-type {\n",
       "        vertical-align: middle;\n",
       "    }\n",
       "\n",
       "    .dataframe tbody tr th {\n",
       "        vertical-align: top;\n",
       "    }\n",
       "\n",
       "    .dataframe thead th {\n",
       "        text-align: right;\n",
       "    }\n",
       "</style>\n",
       "<table border=\"1\" class=\"dataframe\">\n",
       "  <thead>\n",
       "    <tr style=\"text-align: right;\">\n",
       "      <th></th>\n",
       "      <th>train_score</th>\n",
       "      <th>test_score</th>\n",
       "      <th>C</th>\n",
       "      <th>model</th>\n",
       "      <th>scaled</th>\n",
       "    </tr>\n",
       "  </thead>\n",
       "  <tbody>\n",
       "    <tr>\n",
       "      <th>0</th>\n",
       "      <td>0.957867</td>\n",
       "      <td>0.8272</td>\n",
       "      <td>10.0</td>\n",
       "      <td>SVC</td>\n",
       "      <td>1.0</td>\n",
       "    </tr>\n",
       "    <tr>\n",
       "      <th>1</th>\n",
       "      <td>0.820267</td>\n",
       "      <td>0.8416</td>\n",
       "      <td>10.0</td>\n",
       "      <td>SVC</td>\n",
       "      <td>0.0</td>\n",
       "    </tr>\n",
       "  </tbody>\n",
       "</table>\n",
       "</div>"
      ],
      "text/plain": [
       "   train_score  test_score     C model  scaled\n",
       "0     0.957867      0.8272  10.0   SVC     1.0\n",
       "1     0.820267      0.8416  10.0   SVC     0.0"
      ]
     },
     "execution_count": 10,
     "metadata": {},
     "output_type": "execute_result"
    }
   ],
   "source": [
    "running_models(X, y)"
   ]
  },
  {
   "cell_type": "code",
   "execution_count": 523,
   "metadata": {},
   "outputs": [],
   "source": [
    "# Create train_test_split\n",
    "X_train, X_test, y_train, y_test = train_test_split(X, y, stratify=y, random_state=182)\n",
    "\n",
    "# Scale the features\n",
    "sc = StandardScaler()\n",
    "X_train_sc = sc.fit_transform(X_train)\n",
    "X_test_sc = sc.transform(X_test)"
   ]
  },
  {
   "cell_type": "code",
   "execution_count": 524,
   "metadata": {},
   "outputs": [
    {
     "data": {
      "text/plain": [
       "SVC(C=0.35)"
      ]
     },
     "execution_count": 524,
     "metadata": {},
     "output_type": "execute_result"
    }
   ],
   "source": [
    "model = SVC(C=.35)\n",
    "model.fit(X_train_sc, y_train)"
   ]
  },
  {
   "cell_type": "code",
   "execution_count": 525,
   "metadata": {},
   "outputs": [],
   "source": [
    "categories = list(set(y_preds))\n",
    "numbers = list(range(5))"
   ]
  },
  {
   "cell_type": "code",
   "execution_count": 526,
   "metadata": {},
   "outputs": [],
   "source": [
    "y_preds = model.predict(X_test_sc)"
   ]
  },
  {
   "cell_type": "code",
   "execution_count": 527,
   "metadata": {},
   "outputs": [],
   "source": [
    "results = X_test.copy()"
   ]
  },
  {
   "cell_type": "code",
   "execution_count": 529,
   "metadata": {},
   "outputs": [],
   "source": [
    "results.loc[:, 'genre'] = y_test.copy()"
   ]
  },
  {
   "cell_type": "code",
   "execution_count": 530,
   "metadata": {},
   "outputs": [],
   "source": [
    "results.loc[:, 'preds'] = y_preds.copy()"
   ]
  },
  {
   "cell_type": "code",
   "execution_count": 531,
   "metadata": {},
   "outputs": [
    {
     "data": {
      "image/png": "[encoded data removed]",
      "text/plain": [
       "<Figure size 432x288 with 2 Axes>"
      ]
     },
     "metadata": {
      "needs_background": "light"
     },
     "output_type": "display_data"
    }
   ],
   "source": [
    "plot_confusion_matrix(model, X_test_sc, y_test, xticks_rotation='vertical', normalize='true');"
   ]
  },
  {
   "cell_type": "markdown",
   "metadata": {},
   "source": [
    "We can see here that our model performs **best on classical music**, and performs **worst on r&b, only predicting correctly 74% of the time.** I want to dig more into why that is"
   ]
  },
  {
   "cell_type": "code",
   "execution_count": 532,
   "metadata": {},
   "outputs": [],
   "source": [
    "results_wrong = results[results['genre'] != results['preds']]"
   ]
  },
  {
   "cell_type": "code",
   "execution_count": 533,
   "metadata": {},
   "outputs": [],
   "source": [
    "songs_wrong = songs.loc[results_wrong.index, ['track_name']]"
   ]
  },
  {
   "cell_type": "code",
   "execution_count": 534,
   "metadata": {},
   "outputs": [
    {
     "name": "stderr",
     "output_type": "stream",
     "text": [
      "C:\\ProgramData\\Anaconda3\\envs\\dsi\\lib\\site-packages\\ipykernel_launcher.py:1: SettingWithCopyWarning: \n",
      "A value is trying to be set on a copy of a slice from a DataFrame.\n",
      "Try using .loc[row_indexer,col_indexer] = value instead\n",
      "\n",
      "See the caveats in the documentation: https://pandas.pydata.org/pandas-docs/stable/user_guide/indexing.html#returning-a-view-versus-a-copy\n",
      "  \"\"\"Entry point for launching an IPython kernel.\n"
     ]
    }
   ],
   "source": [
    "results_wrong['track_name'] = songs_wrong"
   ]
  },
  {
   "cell_type": "code",
   "execution_count": 535,
   "metadata": {},
   "outputs": [
    {
     "data": {
      "text/html": [
       "<div>\n",
       "<style scoped>\n",
       "    .dataframe tbody tr th:only-of-type {\n",
       "        vertical-align: middle;\n",
       "    }\n",
       "\n",
       "    .dataframe tbody tr th {\n",
       "        vertical-align: top;\n",
       "    }\n",
       "\n",
       "    .dataframe thead th {\n",
       "        text-align: right;\n",
       "    }\n",
       "</style>\n",
       "<table border=\"1\" class=\"dataframe\">\n",
       "  <thead>\n",
       "    <tr style=\"text-align: right;\">\n",
       "      <th></th>\n",
       "      <th>mean_energy</th>\n",
       "      <th>std_energy</th>\n",
       "      <th>min_energy</th>\n",
       "      <th>max_energy</th>\n",
       "      <th>max_rms</th>\n",
       "      <th>std_rms</th>\n",
       "      <th>median_rms</th>\n",
       "      <th>min_rms</th>\n",
       "      <th>mfcc_mean_00</th>\n",
       "      <th>mfcc_mean_01</th>\n",
       "      <th>...</th>\n",
       "      <th>mfcc_min_05</th>\n",
       "      <th>mfcc_min_06</th>\n",
       "      <th>mfcc_min_07</th>\n",
       "      <th>mfcc_min_08</th>\n",
       "      <th>mfcc_min_09</th>\n",
       "      <th>mfcc_min_10</th>\n",
       "      <th>mfcc_min_11</th>\n",
       "      <th>genre</th>\n",
       "      <th>preds</th>\n",
       "      <th>track_name</th>\n",
       "    </tr>\n",
       "  </thead>\n",
       "  <tbody>\n",
       "    <tr>\n",
       "      <th>1653</th>\n",
       "      <td>26.837427</td>\n",
       "      <td>29.822205</td>\n",
       "      <td>0.227380</td>\n",
       "      <td>231.272377</td>\n",
       "      <td>0.672089</td>\n",
       "      <td>0.110432</td>\n",
       "      <td>0.177969</td>\n",
       "      <td>0.021074</td>\n",
       "      <td>-132.137619</td>\n",
       "      <td>106.776787</td>\n",
       "      <td>...</td>\n",
       "      <td>-12.309896</td>\n",
       "      <td>-47.899212</td>\n",
       "      <td>-35.528416</td>\n",
       "      <td>-38.607246</td>\n",
       "      <td>-34.404018</td>\n",
       "      <td>-37.107895</td>\n",
       "      <td>-35.714878</td>\n",
       "      <td>rap</td>\n",
       "      <td>r&amp;b</td>\n",
       "      <td>Only You (feat. The Notorious B.I.G. &amp; Mase) -...</td>\n",
       "    </tr>\n",
       "    <tr>\n",
       "      <th>1778</th>\n",
       "      <td>46.566456</td>\n",
       "      <td>41.379618</td>\n",
       "      <td>0.605496</td>\n",
       "      <td>280.619677</td>\n",
       "      <td>0.740328</td>\n",
       "      <td>0.110651</td>\n",
       "      <td>0.267670</td>\n",
       "      <td>0.034389</td>\n",
       "      <td>-109.434654</td>\n",
       "      <td>109.749611</td>\n",
       "      <td>...</td>\n",
       "      <td>-4.021262</td>\n",
       "      <td>-65.765266</td>\n",
       "      <td>-25.861614</td>\n",
       "      <td>-27.706072</td>\n",
       "      <td>-78.043472</td>\n",
       "      <td>-24.386654</td>\n",
       "      <td>-23.708405</td>\n",
       "      <td>rap</td>\n",
       "      <td>r&amp;b</td>\n",
       "      <td>Somethin Tells Me</td>\n",
       "    </tr>\n",
       "    <tr>\n",
       "      <th>1856</th>\n",
       "      <td>39.402694</td>\n",
       "      <td>30.653769</td>\n",
       "      <td>2.283467</td>\n",
       "      <td>236.971450</td>\n",
       "      <td>0.680320</td>\n",
       "      <td>0.092538</td>\n",
       "      <td>0.251618</td>\n",
       "      <td>0.066782</td>\n",
       "      <td>-85.101601</td>\n",
       "      <td>125.324379</td>\n",
       "      <td>...</td>\n",
       "      <td>-11.752495</td>\n",
       "      <td>-47.426876</td>\n",
       "      <td>-22.385229</td>\n",
       "      <td>-40.177628</td>\n",
       "      <td>-33.128696</td>\n",
       "      <td>-28.820669</td>\n",
       "      <td>-27.308964</td>\n",
       "      <td>rap</td>\n",
       "      <td>r&amp;b</td>\n",
       "      <td>Sky's the Limit (feat. 112) - 2014 Remaster</td>\n",
       "    </tr>\n",
       "    <tr>\n",
       "      <th>1673</th>\n",
       "      <td>42.095754</td>\n",
       "      <td>27.215504</td>\n",
       "      <td>0.074239</td>\n",
       "      <td>172.595618</td>\n",
       "      <td>0.580604</td>\n",
       "      <td>0.101780</td>\n",
       "      <td>0.283009</td>\n",
       "      <td>0.012042</td>\n",
       "      <td>-77.639091</td>\n",
       "      <td>128.701294</td>\n",
       "      <td>...</td>\n",
       "      <td>-22.018921</td>\n",
       "      <td>-56.880360</td>\n",
       "      <td>-39.439629</td>\n",
       "      <td>-40.098961</td>\n",
       "      <td>-32.648499</td>\n",
       "      <td>-37.144257</td>\n",
       "      <td>-33.395630</td>\n",
       "      <td>rap</td>\n",
       "      <td>r&amp;b</td>\n",
       "      <td>Whatever You Like</td>\n",
       "    </tr>\n",
       "    <tr>\n",
       "      <th>1538</th>\n",
       "      <td>45.313658</td>\n",
       "      <td>61.220352</td>\n",
       "      <td>0.203308</td>\n",
       "      <td>384.215485</td>\n",
       "      <td>0.866268</td>\n",
       "      <td>0.150881</td>\n",
       "      <td>0.250395</td>\n",
       "      <td>0.019927</td>\n",
       "      <td>-146.169693</td>\n",
       "      <td>117.854248</td>\n",
       "      <td>...</td>\n",
       "      <td>-23.983143</td>\n",
       "      <td>-59.268829</td>\n",
       "      <td>-26.802391</td>\n",
       "      <td>-56.876747</td>\n",
       "      <td>-33.827942</td>\n",
       "      <td>-16.999588</td>\n",
       "      <td>-41.450058</td>\n",
       "      <td>rap</td>\n",
       "      <td>r&amp;b</td>\n",
       "      <td>Can't Believe It (feat. Lil' Wayne)</td>\n",
       "    </tr>\n",
       "  </tbody>\n",
       "</table>\n",
       "<p>5 rows × 59 columns</p>\n",
       "</div>"
      ],
      "text/plain": [
       "      mean_energy  std_energy  min_energy  max_energy   max_rms   std_rms  \\\n",
       "1653    26.837427   29.822205    0.227380  231.272377  0.672089  0.110432   \n",
       "1778    46.566456   41.379618    0.605496  280.619677  0.740328  0.110651   \n",
       "1856    39.402694   30.653769    2.283467  236.971450  0.680320  0.092538   \n",
       "1673    42.095754   27.215504    0.074239  172.595618  0.580604  0.101780   \n",
       "1538    45.313658   61.220352    0.203308  384.215485  0.866268  0.150881   \n",
       "\n",
       "      median_rms   min_rms  mfcc_mean_00  mfcc_mean_01  ...  mfcc_min_05  \\\n",
       "1653    0.177969  0.021074   -132.137619    106.776787  ...   -12.309896   \n",
       "1778    0.267670  0.034389   -109.434654    109.749611  ...    -4.021262   \n",
       "1856    0.251618  0.066782    -85.101601    125.324379  ...   -11.752495   \n",
       "1673    0.283009  0.012042    -77.639091    128.701294  ...   -22.018921   \n",
       "1538    0.250395  0.019927   -146.169693    117.854248  ...   -23.983143   \n",
       "\n",
       "      mfcc_min_06  mfcc_min_07  mfcc_min_08  mfcc_min_09  mfcc_min_10  \\\n",
       "1653   -47.899212   -35.528416   -38.607246   -34.404018   -37.107895   \n",
       "1778   -65.765266   -25.861614   -27.706072   -78.043472   -24.386654   \n",
       "1856   -47.426876   -22.385229   -40.177628   -33.128696   -28.820669   \n",
       "1673   -56.880360   -39.439629   -40.098961   -32.648499   -37.144257   \n",
       "1538   -59.268829   -26.802391   -56.876747   -33.827942   -16.999588   \n",
       "\n",
       "      mfcc_min_11  genre  preds  \\\n",
       "1653   -35.714878    rap    r&b   \n",
       "1778   -23.708405    rap    r&b   \n",
       "1856   -27.308964    rap    r&b   \n",
       "1673   -33.395630    rap    r&b   \n",
       "1538   -41.450058    rap    r&b   \n",
       "\n",
       "                                             track_name  \n",
       "1653  Only You (feat. The Notorious B.I.G. & Mase) -...  \n",
       "1778                                  Somethin Tells Me  \n",
       "1856        Sky's the Limit (feat. 112) - 2014 Remaster  \n",
       "1673                                  Whatever You Like  \n",
       "1538                Can't Believe It (feat. Lil' Wayne)  \n",
       "\n",
       "[5 rows x 59 columns]"
      ]
     },
     "execution_count": 535,
     "metadata": {},
     "output_type": "execute_result"
    }
   ],
   "source": [
    "results_wrong[(results_wrong['preds'] == 'r&b') & (results_wrong['genre'] == 'rap')].head()"
   ]
  },
  {
   "cell_type": "code",
   "execution_count": 536,
   "metadata": {},
   "outputs": [],
   "source": [
    "group_preds = results_wrong.groupby('preds').mean()"
   ]
  },
  {
   "cell_type": "code",
   "execution_count": 537,
   "metadata": {},
   "outputs": [
    {
     "data": {
      "text/plain": [
       "Index(['min_rms', 'mfcc_mean_01', 'mfcc_mean_02', 'mfcc_mean_03',\n",
       "       'mfcc_mean_04', 'mfcc_mean_06', 'mfcc_mean_07', 'mfcc_mean_08',\n",
       "       'mfcc_mean_09', 'mfcc_min_06', 'mfcc_min_08'],\n",
       "      dtype='object')"
      ]
     },
     "execution_count": 537,
     "metadata": {},
     "output_type": "execute_result"
    }
   ],
   "source": [
    "# Getting columns where rap and r&b are very close to each other\n",
    "group_preds.columns[abs(group_preds.loc['rap']) - abs(group_preds.loc['r&b']) < 0.001]"
   ]
  },
  {
   "cell_type": "code",
   "execution_count": 516,
   "metadata": {},
   "outputs": [
    {
     "data": {
      "text/plain": [
       "r&b                      0.333333\n",
       "rap                      0.254902\n",
       "progressive bluegrass    0.186275\n",
       "rock                     0.166667\n",
       "classical                0.058824\n",
       "Name: genre, dtype: float64"
      ]
     },
     "execution_count": 516,
     "metadata": {},
     "output_type": "execute_result"
    }
   ],
   "source": [
    "results_wrong['genre'].value_counts(normalize=True)"
   ]
  },
  {
   "cell_type": "markdown",
   "metadata": {},
   "source": [
    "Rap and R&B seem to be predicted wrong most often with these new features I've pulled"
   ]
  },
  {
   "cell_type": "code",
   "execution_count": 517,
   "metadata": {},
   "outputs": [
    {
     "data": {
      "text/plain": [
       "r&b    1.0\n",
       "Name: preds, dtype: float64"
      ]
     },
     "execution_count": 517,
     "metadata": {},
     "output_type": "execute_result"
    }
   ],
   "source": [
    "results_wrong[results_wrong['genre'] == 'rap']['preds'].value_counts(normalize=True)"
   ]
  },
  {
   "cell_type": "markdown",
   "metadata": {},
   "source": [
    "It seems that when Rap is predicted wrong, it's predicted as r&b."
   ]
  },
  {
   "cell_type": "code",
   "execution_count": 518,
   "metadata": {},
   "outputs": [
    {
     "data": {
      "text/plain": [
       "rap                      0.852941\n",
       "rock                     0.088235\n",
       "progressive bluegrass    0.058824\n",
       "Name: preds, dtype: float64"
      ]
     },
     "execution_count": 518,
     "metadata": {},
     "output_type": "execute_result"
    }
   ],
   "source": [
    "results_wrong[results_wrong['genre'] == 'r&b']['preds'].value_counts(normalize=True)"
   ]
  },
  {
   "cell_type": "markdown",
   "metadata": {},
   "source": [
    "When R&B is predicted wrong, it's predicted to be rap 84% of the time"
   ]
  },
  {
   "cell_type": "code",
   "execution_count": 237,
   "metadata": {},
   "outputs": [],
   "source": [
    "genre_mean = songs.groupby('genre').mean()"
   ]
  },
  {
   "cell_type": "markdown",
   "metadata": {},
   "source": [
    "Interesting that most of the genres hover slightly above 120 as a tempo. There's some interesting reasoning behind this with commercial music and the need for 30-seconds of music to fill an advertising slot. 128 beats per minute would allow for a 16-bar phrase in 4/4 time."
   ]
  },
  {
   "cell_type": "code",
   "execution_count": 241,
   "metadata": {},
   "outputs": [],
   "source": [
    "X = songs[features]\n",
    "# Thanks joris on SO: https://stackoverflow.com/questions/32011359/convert-categorical-data-in-pandas-dataframe/32011969\n",
    "y_cat = songs['genre'].astype('category').cat.codes"
   ]
  },
  {
   "cell_type": "code",
   "execution_count": 242,
   "metadata": {},
   "outputs": [],
   "source": [
    "y = to_categorical(y_cat)"
   ]
  },
  {
   "cell_type": "code",
   "execution_count": 243,
   "metadata": {},
   "outputs": [],
   "source": [
    "X_train, X_test, y_train, y_test = train_test_split(X, y, stratify=y, random_state=182)"
   ]
  },
  {
   "cell_type": "code",
   "execution_count": 244,
   "metadata": {},
   "outputs": [],
   "source": [
    "sc = StandardScaler()\n",
    "X_train_sc = sc.fit_transform(X_train)\n",
    "X_test_sc = sc.transform(X_test)"
   ]
  },
  {
   "cell_type": "code",
   "execution_count": 299,
   "metadata": {},
   "outputs": [
    {
     "name": "stdout",
     "output_type": "stream",
     "text": [
      "Epoch 1/100\n",
      "15/15 [==============================] - 0s 7ms/step - loss: 1.5583 - acc: 0.2448 - val_loss: 1.4482 - val_acc: 0.4304\n",
      "Epoch 2/100\n",
      "15/15 [==============================] - 0s 3ms/step - loss: 1.3683 - acc: 0.4475 - val_loss: 1.2088 - val_acc: 0.5952\n",
      "Epoch 3/100\n",
      "15/15 [==============================] - 0s 2ms/step - loss: 1.1525 - acc: 0.5424 - val_loss: 0.9566 - val_acc: 0.6800\n",
      "Epoch 4/100\n",
      "15/15 [==============================] - 0s 3ms/step - loss: 0.9417 - acc: 0.6347 - val_loss: 0.7834 - val_acc: 0.7024\n",
      "Epoch 5/100\n",
      "15/15 [==============================] - 0s 3ms/step - loss: 0.8217 - acc: 0.6560 - val_loss: 0.6928 - val_acc: 0.6976\n",
      "Epoch 6/100\n",
      "15/15 [==============================] - 0s 3ms/step - loss: 0.7537 - acc: 0.6843 - val_loss: 0.6420 - val_acc: 0.7264\n",
      "Epoch 7/100\n",
      "15/15 [==============================] - 0s 3ms/step - loss: 0.6976 - acc: 0.7029 - val_loss: 0.6025 - val_acc: 0.7344\n",
      "Epoch 8/100\n",
      "15/15 [==============================] - 0s 3ms/step - loss: 0.6543 - acc: 0.7200 - val_loss: 0.5836 - val_acc: 0.7568\n",
      "Epoch 9/100\n",
      "15/15 [==============================] - 0s 2ms/step - loss: 0.6317 - acc: 0.7291 - val_loss: 0.5556 - val_acc: 0.7680\n",
      "Epoch 10/100\n",
      "15/15 [==============================] - 0s 3ms/step - loss: 0.5939 - acc: 0.7541 - val_loss: 0.5349 - val_acc: 0.7808\n",
      "Epoch 11/100\n",
      "15/15 [==============================] - 0s 3ms/step - loss: 0.5797 - acc: 0.7611 - val_loss: 0.5220 - val_acc: 0.7888\n",
      "Epoch 12/100\n",
      "15/15 [==============================] - 0s 3ms/step - loss: 0.5547 - acc: 0.7712 - val_loss: 0.5128 - val_acc: 0.7920\n",
      "Epoch 13/100\n",
      "15/15 [==============================] - 0s 3ms/step - loss: 0.5437 - acc: 0.7781 - val_loss: 0.5069 - val_acc: 0.7904\n",
      "Epoch 14/100\n",
      "15/15 [==============================] - 0s 2ms/step - loss: 0.5288 - acc: 0.7829 - val_loss: 0.4929 - val_acc: 0.7984\n",
      "Epoch 15/100\n",
      "15/15 [==============================] - 0s 3ms/step - loss: 0.5023 - acc: 0.7995 - val_loss: 0.4901 - val_acc: 0.7984\n",
      "Epoch 16/100\n",
      "15/15 [==============================] - 0s 2ms/step - loss: 0.5042 - acc: 0.7904 - val_loss: 0.4852 - val_acc: 0.8000\n",
      "Epoch 17/100\n",
      "15/15 [==============================] - 0s 3ms/step - loss: 0.4933 - acc: 0.8059 - val_loss: 0.4821 - val_acc: 0.7920\n",
      "Epoch 18/100\n",
      "15/15 [==============================] - 0s 3ms/step - loss: 0.4668 - acc: 0.8187 - val_loss: 0.4776 - val_acc: 0.7952\n",
      "Epoch 19/100\n",
      "15/15 [==============================] - 0s 3ms/step - loss: 0.4895 - acc: 0.7957 - val_loss: 0.4708 - val_acc: 0.8000\n",
      "Epoch 20/100\n",
      "15/15 [==============================] - 0s 3ms/step - loss: 0.4587 - acc: 0.8139 - val_loss: 0.4691 - val_acc: 0.7984\n",
      "Epoch 21/100\n",
      "15/15 [==============================] - 0s 3ms/step - loss: 0.4618 - acc: 0.8069 - val_loss: 0.4665 - val_acc: 0.8000\n",
      "Epoch 22/100\n",
      "15/15 [==============================] - 0s 3ms/step - loss: 0.4502 - acc: 0.8048 - val_loss: 0.4632 - val_acc: 0.8000\n",
      "Epoch 23/100\n",
      "15/15 [==============================] - 0s 3ms/step - loss: 0.4418 - acc: 0.8208 - val_loss: 0.4649 - val_acc: 0.7952\n",
      "Epoch 24/100\n",
      "15/15 [==============================] - 0s 3ms/step - loss: 0.4535 - acc: 0.8171 - val_loss: 0.4603 - val_acc: 0.8000\n",
      "Epoch 25/100\n",
      "15/15 [==============================] - 0s 3ms/step - loss: 0.4231 - acc: 0.8299 - val_loss: 0.4568 - val_acc: 0.8032\n",
      "Epoch 26/100\n",
      "15/15 [==============================] - 0s 3ms/step - loss: 0.4166 - acc: 0.8208 - val_loss: 0.4581 - val_acc: 0.8080\n",
      "Epoch 27/100\n",
      "15/15 [==============================] - 0s 3ms/step - loss: 0.4210 - acc: 0.8187 - val_loss: 0.4567 - val_acc: 0.8000\n",
      "Epoch 28/100\n",
      "15/15 [==============================] - 0s 3ms/step - loss: 0.4202 - acc: 0.8315 - val_loss: 0.4504 - val_acc: 0.8032\n",
      "Epoch 29/100\n",
      "15/15 [==============================] - 0s 3ms/step - loss: 0.4148 - acc: 0.8299 - val_loss: 0.4515 - val_acc: 0.8064\n",
      "Epoch 30/100\n",
      "15/15 [==============================] - 0s 3ms/step - loss: 0.3991 - acc: 0.8299 - val_loss: 0.4506 - val_acc: 0.8064\n",
      "Epoch 31/100\n",
      "15/15 [==============================] - 0s 3ms/step - loss: 0.3970 - acc: 0.8347 - val_loss: 0.4500 - val_acc: 0.8048\n",
      "Epoch 32/100\n",
      "15/15 [==============================] - 0s 3ms/step - loss: 0.3955 - acc: 0.8363 - val_loss: 0.4531 - val_acc: 0.8032\n",
      "Epoch 33/100\n",
      "15/15 [==============================] - 0s 3ms/step - loss: 0.4023 - acc: 0.8304 - val_loss: 0.4464 - val_acc: 0.8128\n",
      "Epoch 34/100\n",
      "15/15 [==============================] - 0s 3ms/step - loss: 0.3947 - acc: 0.8411 - val_loss: 0.4479 - val_acc: 0.8112\n",
      "Epoch 35/100\n",
      "15/15 [==============================] - 0s 2ms/step - loss: 0.3857 - acc: 0.8421 - val_loss: 0.4447 - val_acc: 0.8032\n",
      "Epoch 36/100\n",
      "15/15 [==============================] - 0s 3ms/step - loss: 0.3790 - acc: 0.8496 - val_loss: 0.4432 - val_acc: 0.8144\n",
      "Epoch 37/100\n",
      "15/15 [==============================] - 0s 3ms/step - loss: 0.3782 - acc: 0.8416 - val_loss: 0.4404 - val_acc: 0.8096\n",
      "Epoch 38/100\n",
      "15/15 [==============================] - 0s 3ms/step - loss: 0.3734 - acc: 0.8469 - val_loss: 0.4413 - val_acc: 0.8112\n",
      "Epoch 39/100\n",
      "15/15 [==============================] - 0s 3ms/step - loss: 0.3733 - acc: 0.8475 - val_loss: 0.4399 - val_acc: 0.8096\n",
      "Epoch 40/100\n",
      "15/15 [==============================] - 0s 3ms/step - loss: 0.3708 - acc: 0.8459 - val_loss: 0.4407 - val_acc: 0.8112\n",
      "Epoch 41/100\n",
      "15/15 [==============================] - 0s 3ms/step - loss: 0.3557 - acc: 0.8544 - val_loss: 0.4359 - val_acc: 0.8176\n",
      "Epoch 42/100\n",
      "15/15 [==============================] - 0s 3ms/step - loss: 0.3666 - acc: 0.8411 - val_loss: 0.4379 - val_acc: 0.8176\n",
      "Epoch 43/100\n",
      "15/15 [==============================] - 0s 2ms/step - loss: 0.3592 - acc: 0.8560 - val_loss: 0.4389 - val_acc: 0.8128\n",
      "Epoch 44/100\n",
      "15/15 [==============================] - 0s 3ms/step - loss: 0.3522 - acc: 0.8528 - val_loss: 0.4368 - val_acc: 0.8160\n",
      "Epoch 45/100\n",
      "15/15 [==============================] - 0s 3ms/step - loss: 0.3600 - acc: 0.8480 - val_loss: 0.4358 - val_acc: 0.8176\n",
      "Epoch 46/100\n",
      "15/15 [==============================] - 0s 3ms/step - loss: 0.3467 - acc: 0.8613 - val_loss: 0.4359 - val_acc: 0.8160\n",
      "Epoch 47/100\n",
      "15/15 [==============================] - 0s 3ms/step - loss: 0.3504 - acc: 0.8555 - val_loss: 0.4397 - val_acc: 0.8208\n",
      "Epoch 48/100\n",
      "15/15 [==============================] - 0s 2ms/step - loss: 0.3340 - acc: 0.8677 - val_loss: 0.4378 - val_acc: 0.8176\n",
      "Epoch 49/100\n",
      "15/15 [==============================] - 0s 3ms/step - loss: 0.3433 - acc: 0.8539 - val_loss: 0.4391 - val_acc: 0.8192\n",
      "Epoch 50/100\n",
      "15/15 [==============================] - 0s 3ms/step - loss: 0.3364 - acc: 0.8560 - val_loss: 0.4409 - val_acc: 0.8160\n",
      "Epoch 51/100\n",
      "15/15 [==============================] - 0s 3ms/step - loss: 0.3323 - acc: 0.8635 - val_loss: 0.4426 - val_acc: 0.8192\n",
      "Epoch 52/100\n",
      "15/15 [==============================] - 0s 3ms/step - loss: 0.3326 - acc: 0.8624 - val_loss: 0.4434 - val_acc: 0.8176\n",
      "Epoch 53/100\n",
      "15/15 [==============================] - 0s 3ms/step - loss: 0.3317 - acc: 0.8677 - val_loss: 0.4445 - val_acc: 0.8096\n",
      "Epoch 54/100\n",
      "15/15 [==============================] - 0s 2ms/step - loss: 0.3358 - acc: 0.8603 - val_loss: 0.4429 - val_acc: 0.8176\n",
      "Epoch 55/100\n",
      "15/15 [==============================] - 0s 3ms/step - loss: 0.3245 - acc: 0.8656 - val_loss: 0.4437 - val_acc: 0.8176\n",
      "Epoch 56/100\n",
      "15/15 [==============================] - 0s 3ms/step - loss: 0.3321 - acc: 0.8555 - val_loss: 0.4425 - val_acc: 0.8128\n",
      "Epoch 57/100\n",
      "15/15 [==============================] - 0s 3ms/step - loss: 0.3247 - acc: 0.8608 - val_loss: 0.4402 - val_acc: 0.8192\n",
      "Epoch 58/100\n",
      "15/15 [==============================] - 0s 3ms/step - loss: 0.3262 - acc: 0.8592 - val_loss: 0.4419 - val_acc: 0.8192\n",
      "Epoch 59/100\n",
      "15/15 [==============================] - 0s 3ms/step - loss: 0.3099 - acc: 0.8683 - val_loss: 0.4389 - val_acc: 0.8144\n",
      "Epoch 60/100\n",
      "15/15 [==============================] - 0s 2ms/step - loss: 0.3255 - acc: 0.8629 - val_loss: 0.4375 - val_acc: 0.8176\n",
      "Epoch 61/100\n",
      "15/15 [==============================] - 0s 3ms/step - loss: 0.3101 - acc: 0.8715 - val_loss: 0.4358 - val_acc: 0.8256\n",
      "Epoch 62/100\n",
      "15/15 [==============================] - 0s 3ms/step - loss: 0.3059 - acc: 0.8688 - val_loss: 0.4309 - val_acc: 0.8192\n",
      "Epoch 63/100\n",
      "15/15 [==============================] - 0s 3ms/step - loss: 0.3083 - acc: 0.8656 - val_loss: 0.4332 - val_acc: 0.8208\n",
      "Epoch 64/100\n",
      "15/15 [==============================] - 0s 2ms/step - loss: 0.3011 - acc: 0.8747 - val_loss: 0.4396 - val_acc: 0.8160\n",
      "Epoch 65/100\n",
      "15/15 [==============================] - 0s 3ms/step - loss: 0.3020 - acc: 0.8731 - val_loss: 0.4463 - val_acc: 0.8240\n",
      "Epoch 66/100\n",
      "15/15 [==============================] - 0s 3ms/step - loss: 0.3142 - acc: 0.8683 - val_loss: 0.4401 - val_acc: 0.8272\n",
      "Epoch 67/100\n",
      "15/15 [==============================] - 0s 3ms/step - loss: 0.2991 - acc: 0.8720 - val_loss: 0.4368 - val_acc: 0.8272\n",
      "Epoch 68/100\n",
      "15/15 [==============================] - 0s 3ms/step - loss: 0.3082 - acc: 0.8715 - val_loss: 0.4454 - val_acc: 0.8176\n",
      "Epoch 69/100\n",
      "15/15 [==============================] - 0s 3ms/step - loss: 0.3065 - acc: 0.8661 - val_loss: 0.4451 - val_acc: 0.8208\n",
      "Epoch 70/100\n",
      "15/15 [==============================] - 0s 3ms/step - loss: 0.2927 - acc: 0.8699 - val_loss: 0.4464 - val_acc: 0.8208\n",
      "Epoch 71/100\n",
      "15/15 [==============================] - 0s 3ms/step - loss: 0.2947 - acc: 0.8725 - val_loss: 0.4452 - val_acc: 0.8224\n",
      "Epoch 72/100\n",
      "15/15 [==============================] - 0s 3ms/step - loss: 0.2939 - acc: 0.8779 - val_loss: 0.4427 - val_acc: 0.8192\n",
      "Epoch 73/100\n",
      "15/15 [==============================] - 0s 3ms/step - loss: 0.2906 - acc: 0.8763 - val_loss: 0.4405 - val_acc: 0.8192\n",
      "Epoch 74/100\n",
      "15/15 [==============================] - 0s 3ms/step - loss: 0.2830 - acc: 0.8811 - val_loss: 0.4480 - val_acc: 0.8208\n",
      "Epoch 75/100\n",
      "15/15 [==============================] - 0s 3ms/step - loss: 0.2928 - acc: 0.8789 - val_loss: 0.4487 - val_acc: 0.8160\n",
      "Epoch 76/100\n",
      "15/15 [==============================] - 0s 3ms/step - loss: 0.2747 - acc: 0.8832 - val_loss: 0.4540 - val_acc: 0.8192\n",
      "Epoch 77/100\n",
      "15/15 [==============================] - 0s 3ms/step - loss: 0.2801 - acc: 0.8779 - val_loss: 0.4557 - val_acc: 0.8160\n",
      "Epoch 78/100\n",
      "15/15 [==============================] - 0s 3ms/step - loss: 0.2836 - acc: 0.8784 - val_loss: 0.4484 - val_acc: 0.8256\n",
      "Epoch 79/100\n",
      "15/15 [==============================] - 0s 3ms/step - loss: 0.2773 - acc: 0.8773 - val_loss: 0.4542 - val_acc: 0.8240\n",
      "Epoch 80/100\n",
      "15/15 [==============================] - 0s 3ms/step - loss: 0.2791 - acc: 0.8811 - val_loss: 0.4485 - val_acc: 0.8208\n",
      "Epoch 81/100\n",
      "15/15 [==============================] - 0s 2ms/step - loss: 0.2723 - acc: 0.8763 - val_loss: 0.4536 - val_acc: 0.8208\n",
      "Epoch 82/100\n",
      "15/15 [==============================] - 0s 2ms/step - loss: 0.2727 - acc: 0.8811 - val_loss: 0.4593 - val_acc: 0.8256\n",
      "Epoch 83/100\n",
      "15/15 [==============================] - 0s 2ms/step - loss: 0.2741 - acc: 0.8848 - val_loss: 0.4602 - val_acc: 0.8192\n",
      "Epoch 84/100\n",
      "15/15 [==============================] - 0s 3ms/step - loss: 0.2734 - acc: 0.8800 - val_loss: 0.4641 - val_acc: 0.8224\n",
      "Epoch 85/100\n",
      "15/15 [==============================] - 0s 3ms/step - loss: 0.2656 - acc: 0.8725 - val_loss: 0.4654 - val_acc: 0.8208\n",
      "Epoch 86/100\n",
      "15/15 [==============================] - 0s 2ms/step - loss: 0.2623 - acc: 0.8821 - val_loss: 0.4636 - val_acc: 0.8224\n",
      "Epoch 87/100\n",
      "15/15 [==============================] - 0s 3ms/step - loss: 0.2712 - acc: 0.8779 - val_loss: 0.4647 - val_acc: 0.8176\n",
      "Epoch 88/100\n",
      "15/15 [==============================] - 0s 3ms/step - loss: 0.2696 - acc: 0.8891 - val_loss: 0.4686 - val_acc: 0.8192\n",
      "Epoch 89/100\n",
      "15/15 [==============================] - 0s 3ms/step - loss: 0.2638 - acc: 0.8773 - val_loss: 0.4667 - val_acc: 0.8288\n",
      "Epoch 90/100\n",
      "15/15 [==============================] - 0s 3ms/step - loss: 0.2743 - acc: 0.8773 - val_loss: 0.4644 - val_acc: 0.8192\n",
      "Epoch 91/100\n",
      "15/15 [==============================] - 0s 3ms/step - loss: 0.2637 - acc: 0.8832 - val_loss: 0.4596 - val_acc: 0.8192\n",
      "Epoch 92/100\n",
      "15/15 [==============================] - 0s 3ms/step - loss: 0.2598 - acc: 0.8917 - val_loss: 0.4709 - val_acc: 0.8240\n",
      "Epoch 93/100\n",
      "15/15 [==============================] - 0s 3ms/step - loss: 0.2593 - acc: 0.8848 - val_loss: 0.4722 - val_acc: 0.8176\n",
      "Epoch 94/100\n",
      "15/15 [==============================] - 0s 3ms/step - loss: 0.2645 - acc: 0.8827 - val_loss: 0.4720 - val_acc: 0.8256\n",
      "Epoch 95/100\n",
      "15/15 [==============================] - 0s 2ms/step - loss: 0.2520 - acc: 0.8869 - val_loss: 0.4804 - val_acc: 0.8160\n",
      "Epoch 96/100\n",
      "15/15 [==============================] - 0s 3ms/step - loss: 0.2567 - acc: 0.8795 - val_loss: 0.4789 - val_acc: 0.8240\n",
      "Epoch 97/100\n",
      "15/15 [==============================] - 0s 3ms/step - loss: 0.2580 - acc: 0.8875 - val_loss: 0.4780 - val_acc: 0.8160\n",
      "Epoch 98/100\n",
      "15/15 [==============================] - 0s 3ms/step - loss: 0.2585 - acc: 0.8875 - val_loss: 0.4772 - val_acc: 0.8208\n",
      "Epoch 99/100\n",
      "15/15 [==============================] - 0s 2ms/step - loss: 0.2521 - acc: 0.8907 - val_loss: 0.4864 - val_acc: 0.8176\n",
      "Epoch 100/100\n",
      "15/15 [==============================] - 0s 2ms/step - loss: 0.2531 - acc: 0.8795 - val_loss: 0.4885 - val_acc: 0.8224\n"
     ]
    }
   ],
   "source": [
    "fnn_model = Sequential()\n",
    "\n",
    "fnn_model.add(Dense(16, activation='relu', input_shape=(X_train_sc.shape[1],)))\n",
    "fnn_model.add(Dense(64, activation='relu'))\n",
    "fnn_model.add(Dropout(0.2))\n",
    "fnn_model.add(Dense(32, activation='relu'))\n",
    "fnn_model.add(Dropout(0.2))\n",
    "fnn_model.add(Dense(16, activation='relu'))\n",
    "fnn_model.add(Dense(5, activation='softmax'))\n",
    "\n",
    "fnn_model.compile(optimizer='Adam', loss='categorical_crossentropy', metrics=['acc'])\n",
    "\n",
    "hist = fnn_model.fit(X_train_sc, y_train,\n",
    "                epochs=100,\n",
    "                batch_size=128,\n",
    "                validation_data=(X_test_sc, y_test),\n",
    "                    use_multiprocessing=True,\n",
    "                    verbose=1)"
   ]
  },
  {
   "cell_type": "code",
   "execution_count": 300,
   "metadata": {},
   "outputs": [
    {
     "data": {
      "image/png": "[encoded data removed]",
      "text/plain": [
       "<Figure size 432x288 with 1 Axes>"
      ]
     },
     "metadata": {
      "needs_background": "light"
     },
     "output_type": "display_data"
    }
   ],
   "source": [
    "plt.plot(hist.history['acc'], label=\"Training Acc\")\n",
    "plt.plot(hist.history['val_acc'], label=\"Testing Acc\")\n",
    "plt.legend();"
   ]
  },
  {
   "cell_type": "markdown",
   "metadata": {},
   "source": [
    "With my extracted features (energy, rms, and mfcc), I'm able to improve on the accuracy of the spotify model by **5-7% on training data**\n",
    "* SVC model $\\approx 84\\%$ accuracy\n",
    "* FNN model $\\approx 82\\%$ accuracy"
   ]
  },
  {
   "cell_type": "markdown",
   "metadata": {},
   "source": [
    "## What's next?"
   ]
  },
  {
   "cell_type": "markdown",
   "metadata": {},
   "source": [
    "I still want to find some way for the model to be able to tell the difference between rap and r&b"
   ]
  }
 ],
 "metadata": {
  "kernelspec": {
   "display_name": "Python 3",
   "language": "python",
   "name": "python3"
  },
  "language_info": {
   "codemirror_mode": {
    "name": "ipython",
    "version": 3
   },
   "file_extension": ".py",
   "mimetype": "text/x-python",
   "name": "python",
   "nbconvert_exporter": "python",
   "pygments_lexer": "ipython3",
   "version": "3.7.9"
  }
 },
 "nbformat": 4,
 "nbformat_minor": 4
}
