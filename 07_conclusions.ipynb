{
 "cells": [
  {
   "cell_type": "markdown",
   "metadata": {},
   "source": [
    "## **Conclusions**\n",
    "\n",
    "* My models using extracted MFCCs outperform models using spotify's features.\n",
    "* When subgenres are present, a false prediction by the model tends to fall within related genres. For example: classical, baroque, and serialism were the most likely to be confused for each other, but those all fit under the umbrella of classical.\n",
    "* Because the model tends to predict well on more general genres (like the 5-genre model), this could beneficial for auto-generating recommended metadata for artists. **It would still need some human input** to better train, since an incorrect prediction here would lead to potential lost revenue for artists and unpleasant listening experiences for users (users might expect one genre but hear another).\n",
    "* Further exploration needs to be done to figure out why the subgenres are being classified together - OR this could be an interesting way to find intersections between genres that are sonically adjacent to each other.\n",
    "* If sub-genres are getting confused for each other, are there other factors that go into assigning sub-genre (What geographic location was it written? What are the lyrics about? When was it written?)"
   ]
  },
  {
   "cell_type": "markdown",
   "metadata": {},
   "source": [
    "## **Future Steps**\n",
    "\n",
    "* Optimize the preprocessing steps (librosa still loads files quite slowly, it seems)\n",
    "* Include more genres/subgenres\n",
    "* Extract more features from the music: Tempo, pitch content, instrument types?\n",
    "* Run some unsupervised learning to see what clusters develop\n",
    "* Self-label genres to make sure they are correct. Since Spotify assigns genre based on artist, this means that when an artist features on a song that is not within their usual genre, or when a song is Remixed by another artist, there's a higher likelihood that the genre would be mislabeled in Spotify's database.\n",
    "* Deploy a web app that will tell you the genre of a song - useful for generating automatic metadata"
   ]
  },
  {
   "cell_type": "code",
   "execution_count": null,
   "metadata": {},
   "outputs": [],
   "source": []
  }
 ],
 "metadata": {
  "kernelspec": {
   "display_name": "Python 3",
   "language": "python",
   "name": "python3"
  },
  "language_info": {
   "codemirror_mode": {
    "name": "ipython",
    "version": 3
   },
   "file_extension": ".py",
   "mimetype": "text/x-python",
   "name": "python",
   "nbconvert_exporter": "python",
   "pygments_lexer": "ipython3",
   "version": "3.7.9"
  }
 },
 "nbformat": 4,
 "nbformat_minor": 4
}
